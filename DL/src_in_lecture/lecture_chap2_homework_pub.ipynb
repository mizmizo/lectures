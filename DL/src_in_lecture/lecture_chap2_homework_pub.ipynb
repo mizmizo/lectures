{
 "cells": [
  {
   "cell_type": "markdown",
   "metadata": {
    "collapsed": true
   },
   "source": [
    "# 第2回講義 宿題"
   ]
  },
  {
   "cell_type": "markdown",
   "metadata": {},
   "source": [
    "## 課題. MNISTをk-NNで学習せよ"
   ]
  },
  {
   "cell_type": "markdown",
   "metadata": {},
   "source": [
    "### 注意\n",
    "- homework関数を完成させて提出してください\n",
    "    - 訓練データはtrain_X, train_y, テストデータはtest_Xで与えられます\n",
    "    - train_Xとtrain_yをtrain_X, train_yとvalid_X, valid_yに分けるなどしてモデルを学習させてください\n",
    "    - test_Xに対して予想ラベルpred_yを作り, homework関数の戻り値としてください\\\n",
    "- pred_yのtest_yに対する精度(F値)で評価します\n",
    "- 全体の実行時間がiLect上で60分を超えないようにしてください\n",
    "- homework関数の外には何も書かないでください"
   ]
  },
  {
   "cell_type": "markdown",
   "metadata": {},
   "source": [
    "- k-NNの実装にscikit-learnなどのライブラリを使わないでください"
   ]
  },
  {
   "cell_type": "markdown",
   "metadata": {},
   "source": [
    "次のコードが**事前**に実行されます"
   ]
  },
  {
   "cell_type": "markdown",
   "metadata": {},
   "source": [
    "``` python\n",
    "from __future__ import division\n",
    "from sklearn.utils import shuffle\n",
    "from sklearn.metrics import f1_score\n",
    "from sklearn.datasets import fetch_mldata\n",
    "from sklearn.cross_validation import train_test_split\n",
    "\n",
    "import numpy as np\n",
    "\n",
    "mnist = fetch_mldata('MNIST original')\n",
    "mnist_X, mnist_y = shuffle(mnist.data, mnist.target.astype('int32'))\n",
    "\n",
    "mnist_X = mnist_X / 255.0\n",
    "\n",
    "train_X, test_X, train_y, test_y = train_test_split(mnist_X, mnist_y, test_size=0.2, random_state=??) # random_stateはこちらで与えます\n",
    "```"
   ]
  },
  {
   "cell_type": "markdown",
   "metadata": {},
   "source": [
    "次のセルのhomework関数を完成させて提出してください\n",
    "- パッケージのインポートなども含めて、必要な物はすべて書いてください"
   ]
  },
  {
   "cell_type": "code",
   "execution_count": 1,
   "metadata": {
    "collapsed": false,
    "ilect": {
     "is_homework": true
    }
   },
   "outputs": [],
   "source": [
    "def homework(train_X, train_y, test_X):\n",
    "    from pandas import Series\n",
    "\n",
    "    train_X, valid_X , train_y, valid_y = train_test_split(train_X, train_y, test_si\\\n",
    "ze=0.1)\n",
    "\n",
    "    f1 = []\n",
    "    split_n = 10\n",
    "    for k in [3,7,20]:\n",
    "        pred =[]\n",
    "        n = len(valid_X)\n",
    "        for i in range(n):\n",
    "            top = []\n",
    "            for j in range(split_n):\n",
    "                score = np.dot(train_X[int(n * j / split_n) : int((n * (j + 1) /split_n)) - 1], valid_X[i])/np.linalg.norm(train_X[int(n * j / split_n) : int((n * (j + \\\n",
    "1) /split_n)) - 1], axis=1)/np.linalg.norm(valid_X[i])\n",
    "                ranking = sorted([ [s, l] for s, l  in zip(score, train_y[int(n * j / split_n) : int((n * (j + 1) /split_n)) - 1])], reverse = True)\n",
    "                top = sorted(top + ranking[:k], reverse = True)[:k]\n",
    "            pred.append(Series(map(lambda x: x[1], top)).value_counts().index[0])\n",
    "        f1.append(len(np.where(pred - valid_y == 0)[0]))\n",
    "    k = [3,7,20][np.argmax(f1)]\n",
    "    print k\n",
    "\n",
    "    N = len(test_X)\n",
    "    pred_y =[]\n",
    "    for i in range(N):\n",
    "        top = []\n",
    "        for j in range(split_n):\n",
    "            score = np.dot(train_X[int(N * j / split_n) : int((N * (j + 1) /split_n)) - 1], test_X[i])/np.linalg.norm(train_X[int(N * j / split_n) : int((N * (j + 1) /s\\\n",
    "plit_n)) - 1], axis=1)/np.linalg.norm(test_X[i])\n",
    "            ranking = sorted([ [s, l] for s, l  in zip(score, train_y[int(N * j / split_n) : int((N * (j + 1) /split_n)) - 1])], reverse = True)\n",
    "            top = sorted(top + ranking[:k], reverse = True)[:k]\n",
    "        pred_y.append(Series(map(lambda x: x[1], top)).value_counts().index[0])\n",
    "    return pred_y\n"
   ]
  },
  {
   "cell_type": "code",
   "execution_count": null,
   "metadata": {
    "collapsed": false,
    "ilect": {
     "course_id": 1,
     "course_rank": 2,
     "is_evaluation": true
    }
   },
   "outputs": [],
   "source": [
    "from __future__ import division\n",
    "from sklearn.utils import shuffle\n",
    "from sklearn.metrics import f1_score\n",
    "from sklearn.datasets import fetch_mldata\n",
    "from sklearn.cross_validation import train_test_split\n",
    "\n",
    "import numpy as np\n",
    "\n",
    "mnist = fetch_mldata('MNIST original')\n",
    "mnist_X, mnist_y = shuffle(mnist.data, mnist.target.astype('int32'))\n",
    "\n",
    "mnist_X = mnist_X / 255.0\n",
    "\n",
    "train_X, test_X, train_y, test_y = train_test_split(mnist_X, mnist_y, test_size=0.2)\n",
    "\n",
    "def check_homework():\n",
    "    pred_y = homework(train_X, train_y, test_X)\n",
    "    return f1_score(test_y, pred_y, average='macro')\n",
    "\n",
    "if 'homework' in globals():\n",
    "    result = check_homework()\n",
    "    \n",
    "    if result > 0.95:\n",
    "        print \"No Error Occured! Your F1 score is 0.95~1.00\"\n",
    "    elif result > 0.90:\n",
    "        print \"No Error Occured! Your F1 score is 0.90~0.95\"\n",
    "    else:\n",
    "        print \"No Error Occured! Your F1 score is under 0.90\""
   ]
  }
 ],
 "metadata": {
  "kernelspec": {
   "display_name": "Python 2",
   "language": "python",
   "name": "python2"
  },
  "language_info": {
   "codemirror_mode": {
    "name": "ipython",
    "version": 2
   },
   "file_extension": ".py",
   "mimetype": "text/x-python",
   "name": "python",
   "nbconvert_exporter": "python",
   "pygments_lexer": "ipython2",
   "version": "2.7.12"
  }
 },
 "nbformat": 4,
 "nbformat_minor": 0
}
