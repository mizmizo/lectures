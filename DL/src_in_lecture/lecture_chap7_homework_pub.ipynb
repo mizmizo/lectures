{
 "cells": [
  {
   "cell_type": "markdown",
   "metadata": {},
   "source": [
    "# 第7回講義 宿題"
   ]
  },
  {
   "cell_type": "markdown",
   "metadata": {},
   "source": [
    "## 課題. Theanoを用いて, MNISTを畳み込みニューラルネットワーク(CNN)で学習せよ"
   ]
  },
  {
   "cell_type": "markdown",
   "metadata": {},
   "source": [
    "### 注意"
   ]
  },
  {
   "cell_type": "markdown",
   "metadata": {},
   "source": [
    "- homework関数を完成させて提出してください\n",
    "    - 訓練データはtrain_X, train_y, テストデータはtest_Xで与えられます\n",
    "    - train_Xとtrain_yをtrain_X, train_yとvalid_X, valid_yに分けるなどしてモデルを学習させてください\n",
    "    - test_Xに対して予想ラベルpred_yを作り, homework関数の戻り値としてください\\\n",
    "- pred_yのtest_yに対する精度(F値)で評価します\n",
    "- 全体の実行時間がiLect上で60分を超えないようにしてください\n",
    "- homework関数の外には何も書かないでください"
   ]
  },
  {
   "cell_type": "markdown",
   "metadata": {},
   "source": [
    "次のような内容のコードが**事前**に実行されます"
   ]
  },
  {
   "cell_type": "markdown",
   "metadata": {},
   "source": [
    "```python\n",
    "from __future__ import division\n",
    "from collections import OrderedDict\n",
    "from sklearn.utils import shuffle\n",
    "from sklearn.metrics import f1_score\n",
    "from sklearn.datasets import fetch_mldata\n",
    "from sklearn.cross_validation import train_test_split\n",
    "from theano.tensor.nnet import conv2d\n",
    "from theano.tensor.signal import pool\n",
    "from theano.tensor.shared_randomstreams import RandomStreams\n",
    "\n",
    "import numpy as np\n",
    "import theano\n",
    "import theano.tensor as T\n",
    "\n",
    "mnist = fetch_mldata('MNIST original')\n",
    "mnist_X, mnist_y = shuffle(mnist.data.astype('float32'), mnist.target.astype('int32'))\n",
    "\n",
    "mnist_X = mnist_X / 255.0\n",
    "\n",
    "train_X, test_X, train_y, test_y = train_test_split(mnist_X, mnist_y, test_size=0.2, random_state=??) # random_stateはこちらで与えます\n",
    "```"
   ]
  },
  {
   "cell_type": "markdown",
   "metadata": {},
   "source": [
    "次のセルのhomework関数を完成させて提出してください\n",
    "- パッケージのインポートなど, 必要な物はすべて書いてください"
   ]
  },
  {
   "cell_type": "code",
   "execution_count": 1,
   "metadata": {
    "collapsed": false,
    "deletable": false,
    "ilect": {
     "is_homework": true
    }
   },
   "outputs": [],
   "source": [
    "def homework(train_X, test_X, train_y):\n",
    "    rng = np.random.RandomState(1234)\n",
    "    train_y = np.eye(10)[train_y]\n",
    "\n",
    "    train_X = train_X.reshape((train_X.shape[0], 1, 28,28))\n",
    "    test_X  = test_X.reshape((test_X.shape[0], 1, 28, 28))\n",
    "\n",
    "    train_X, valid_X, train_y, valid_y = train_test_split(train_X, train_y, test_size=0.2, random_state=42)\n",
    "    class Conv:\n",
    "        #- Constructor\n",
    "        def __init__(self, filter_shape, function, border_mode=\"valid\", subsample=(1, 1)):\n",
    "            self.function = function\n",
    "            self.border_mode = border_mode\n",
    "            self.subsample = subsample\n",
    "        \n",
    "            self.W = theano.shared(rng.uniform(low=-0.08,high=0.08,size=filter_shape).astype(\"float32\"), name=\"W\")\n",
    "            self.b = theano.shared(np.zeros(filter_shape[0]).astype(\"float32\"), name=\"b\")\n",
    "\n",
    "            self.params = [self.W, self.b]\n",
    "        \n",
    "        #- Forward Propagation\n",
    "        def f_prop(self, x):\n",
    "            conv_out = conv2d(x, self.W, border_mode=self.border_mode, subsample=self.subsample)\n",
    "            self.z   = self.function(conv_out + self.b[np.newaxis,:,np.newaxis,np.newaxis])\n",
    "            return self.z\n",
    "    class Pooling:\n",
    "        #- Constructor\n",
    "        def __init__(self, pool_size=(2, 2), mode='max'):\n",
    "            self.pool_size = pool_size\n",
    "            self.mode = mode\n",
    "            self.params = []\n",
    "        \n",
    "        #- Forward Propagation\n",
    "        def f_prop(self, x):\n",
    "            return pool.pool_2d(input=x,ds=self.pool_size,mode=self.mode,ignore_border=True)\n",
    "    class Flatten:\n",
    "        #- Constructor\n",
    "        def __init__(self, outdim=2):\n",
    "            self.outdim = outdim\n",
    "            self.params = []\n",
    "\n",
    "        #- Forward Propagation\n",
    "        def f_prop(self,x):\n",
    "            return T.flatten(x, self.outdim)\n",
    "    class Layer:\n",
    "        #- Constructor\n",
    "        def __init__(self, in_dim, out_dim, function):\n",
    "            self.in_dim = in_dim\n",
    "            self.out_dim = out_dim\n",
    "            self.function = function\n",
    "\n",
    "            self.W = theano.shared(rng.uniform(\n",
    "                        low=-np.sqrt(6. / (in_dim + out_dim)),\n",
    "                        high=np.sqrt(6. / (in_dim + out_dim)),\n",
    "                        size=(in_dim,out_dim)\n",
    "                    ).astype(\"float32\"), name=\"W\")       \n",
    "            self.b =  theano.shared(np.zeros(out_dim).astype(\"float32\"), name=\"b\")\n",
    "            self.params = [ self.W, self.b ]\n",
    "        \n",
    "        #- Forward Propagation\n",
    "        def f_prop(self, x):\n",
    "            self.z = self.function(T.dot(x, self.W) + self.b)\n",
    "            return self.z\n",
    "    #--- Stochastic Gradient Descent\n",
    "    def sgd(params, g_params, eps=np.float32(0.1)):\n",
    "        updates = OrderedDict()\n",
    "        for param, g_param in zip(params, g_params):\n",
    "            updates[param] = param - eps * g_param\n",
    "        return updates\n",
    "    \n",
    "    activation = T.tanh\n",
    "    layers = [\n",
    "        Conv((20, 1, 5, 5),activation),  # 28x28x 1 -> 24x24x20\n",
    "        Pooling((2, 2)),                 # 24x24x20 -> 12x12x20\n",
    "        Conv((50, 20, 5, 5),activation), # 12x12x20 ->  8x 8x50\n",
    "        Pooling((2, 2)),                 #  8x 8x50 ->  4x 4x50\n",
    "        Flatten(2),\n",
    "        Layer(4*4*50, 500, activation),\n",
    "        Layer(500, 10, T.nnet.softmax)\n",
    "    ]\n",
    "    \n",
    "    x = T.ftensor4('x')\n",
    "    t = T.imatrix('t')\n",
    "\n",
    "    params = []\n",
    "    layer_out = x\n",
    "    for layer in layers:\n",
    "        params += layer.params\n",
    "        layer_out = layer.f_prop(layer_out)\n",
    "\n",
    "    y = layers[-1].z\n",
    "\n",
    "    cost = T.mean(T.nnet.categorical_crossentropy(y, t))\n",
    "\n",
    "    g_params = T.grad(cost, params)\n",
    "    updates = sgd(params, g_params)\n",
    "\n",
    "    train = theano.function(inputs=[x, t], outputs=cost, updates=updates, allow_input_downcast=True, name='train')\n",
    "    valid = theano.function(inputs=[x, t], outputs=[cost, T.argmax(y, axis=1)], allow_input_downcast=True, name='valid')\n",
    "    test  = theano.function(inputs=[x], outputs=T.argmax(y, axis=1), name='test')\n",
    "    batch_size = 100\n",
    "    n_batches = train_X.shape[0]//batch_size\n",
    "    for epoch in xrange(1000):\n",
    "        train_X, train_y = shuffle(train_X, train_y)\n",
    "        for i in xrange(n_batches):\n",
    "            start = i*batch_size\n",
    "            end = start + batch_size\n",
    "            train(train_X[start:end], train_y[start:end])\n",
    "        valid_cost, pred_y = valid(valid_X, valid_y)\n",
    "    pred_y = test(test_X)\n",
    "            \n",
    "    return pred_y"
   ]
  },
  {
   "cell_type": "code",
   "execution_count": null,
   "metadata": {
    "collapsed": false,
    "deletable": false,
    "ilect": {
     "course_id": 1,
     "course_rank": 7,
     "is_evaluation": true
    }
   },
   "outputs": [],
   "source": [
    "from __future__ import division\n",
    "from collections import OrderedDict\n",
    "from sklearn.utils import shuffle\n",
    "from sklearn.metrics import f1_score\n",
    "from sklearn.datasets import fetch_mldata\n",
    "from sklearn.cross_validation import train_test_split\n",
    "from theano.tensor.nnet import conv2d\n",
    "from theano.tensor.signal import pool\n",
    "from theano.tensor.shared_randomstreams import RandomStreams\n",
    "\n",
    "import numpy as np\n",
    "import theano\n",
    "import theano.tensor as T\n",
    "\n",
    "def load_mnist():\n",
    "    mnist = fetch_mldata('MNIST original')\n",
    "    mnist_X, mnist_y = shuffle(mnist.data.astype('float32'), mnist.target.astype('int32'))\n",
    "\n",
    "    mnist_X = mnist_X / 255.0\n",
    "\n",
    "    train_X, test_X, train_y, test_y = train_test_split(mnist_X, mnist_y, test_size=0.2, random_state=42)\n",
    "\n",
    "    return (train_X, test_X, train_y, test_y)\n",
    "\n",
    "def check_homework():\n",
    "    train_X, test_X, train_y, test_y = load_mnist()\n",
    "    pred_y = homework(train_X, test_X, train_y)\n",
    "    return f1_score(test_y, pred_y, average='macro')\n",
    "\n",
    "if 'homework' in globals():\n",
    "    result = check_homework()\n",
    "\n",
    "    print \"No Error Occured!\""
   ]
  }
 ],
 "metadata": {
  "kernelspec": {
   "display_name": "Python 2",
   "language": "python",
   "name": "python2"
  },
  "language_info": {
   "codemirror_mode": {
    "name": "ipython",
    "version": 2
   },
   "file_extension": ".py",
   "mimetype": "text/x-python",
   "name": "python",
   "nbconvert_exporter": "python",
   "pygments_lexer": "ipython2",
   "version": "2.7.12"
  }
 },
 "nbformat": 4,
 "nbformat_minor": 0
}
