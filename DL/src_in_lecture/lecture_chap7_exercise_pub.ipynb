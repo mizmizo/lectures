{
 "cells": [
  {
   "cell_type": "markdown",
   "metadata": {},
   "source": [
    "# 第7回講義 演習"
   ]
  },
  {
   "cell_type": "markdown",
   "metadata": {},
   "source": [
    "## 課題1. 畳み込みニューラルネットワーク(Convolutional Neural Networks)の実装と学習"
   ]
  },
  {
   "cell_type": "code",
   "execution_count": 1,
   "metadata": {
    "collapsed": false
   },
   "outputs": [
    {
     "name": "stderr",
     "output_type": "stream",
     "text": [
      "Using gpu device 0: GRID K520 (CNMeM is enabled with initial size: 95.0% of memory, cuDNN 4007)\n"
     ]
    }
   ],
   "source": [
    "from __future__ import division\n",
    "from collections import OrderedDict\n",
    "from sklearn.utils import shuffle\n",
    "from sklearn.metrics import f1_score\n",
    "from sklearn.datasets import fetch_mldata\n",
    "from sklearn.cross_validation import train_test_split\n",
    "from theano.tensor.nnet import conv2d\n",
    "from theano.tensor.signal import pool\n",
    "from theano.tensor.shared_randomstreams import RandomStreams\n",
    "\n",
    "import numpy as np\n",
    "import theano\n",
    "import theano.tensor as T\n",
    "\n",
    "rng = np.random.RandomState(1234)"
   ]
  },
  {
   "cell_type": "markdown",
   "metadata": {},
   "source": [
    "### 1. MNISTデータセットの読み込み"
   ]
  },
  {
   "cell_type": "code",
   "execution_count": 2,
   "metadata": {
    "collapsed": true
   },
   "outputs": [],
   "source": [
    "mnist = fetch_mldata('MNIST original')\n",
    "mnist_X, mnist_y = shuffle(mnist.data.astype('float32'), mnist.target.astype('int32'))\n",
    "\n",
    "mnist_X = mnist_X / 255.0\n",
    "\n",
    "train_X, test_X, train_y, test_y = train_test_split(mnist_X, mnist_y, test_size=0.2)"
   ]
  },
  {
   "cell_type": "code",
   "execution_count": 3,
   "metadata": {
    "collapsed": true
   },
   "outputs": [],
   "source": [
    "train_y = np.eye(10)[train_y]\n",
    "\n",
    "train_X = train_X.reshape((train_X.shape[0], 1, 28,28))\n",
    "test_X  = test_X.reshape((test_X.shape[0], 1, 28, 28))\n",
    "\n",
    "train_X, valid_X, train_y, valid_y = train_test_split(train_X, train_y, test_size=0.2, random_state=42)"
   ]
  },
  {
   "cell_type": "markdown",
   "metadata": {},
   "source": [
    "### 2. 畳み込みとプーリング in Theano"
   ]
  },
  {
   "cell_type": "markdown",
   "metadata": {},
   "source": [
    "#### 畳み込み: theano.tensor.nnet.conv2d [[link]](http://deeplearning.net/software/theano/library/tensor/nnet/conv.html#theano.tensor.nnet.conv2d)"
   ]
  },
  {
   "cell_type": "markdown",
   "metadata": {},
   "source": [
    "- 入力または隠れ層$X_{i,j}^{k}$\n",
    "    - 次元数4$(n,k,i,j)$\n",
    "        - $n$：バッチサイズ\n",
    "        - $k$：チャネル数\n",
    "        - $i$：入力の行数\n",
    "        - $j$：入力の列数\n",
    "- 畳み込みのフィルタ（重み）$W_{i,j}^{k,l}$\n",
    "    - 次元数4$(k,l,i,j)$\n",
    "        - $k$：フィルタ数（出力のチャネル数)\n",
    "        - $l$：入力のチャネル数\n",
    "        - $i$：フィルタの行数\n",
    "        - $j$：フィルタの列数\n",
    "    - ストライド：フィルタを適用する位置の間隔（theanoのsubsampleオプション）\n",
    "    - ゼロパディング：入力の周りに値0の縁を加える（theanoのborder_modeオプション）\n",
    "        - 入力のサイズを保つ為，フィルタの縦or横の次元が$F$のときパディング数を$(F-1)/2$とする．\n",
    "        - ただしborder_mode=\"full\"だと，$F-1$となることに注意\n",
    "- フィルタ後のサイズは，入力の縦or横の次元数$N$，フィルタの縦or横の次元数$F$，ストライドの縦or横の量$S$で決まる．\n",
    "    - $(N-F)/S+1$\n",
    "    - border_mode=\"full\"の場合，S=1のとき$(N-F+2(F-1))+1=N+F-1$"
   ]
  },
  {
   "cell_type": "markdown",
   "metadata": {},
   "source": [
    "sample image & filter"
   ]
  },
  {
   "cell_type": "code",
   "execution_count": 4,
   "metadata": {
    "collapsed": false
   },
   "outputs": [
    {
     "name": "stdout",
     "output_type": "stream",
     "text": [
      "Sample image\n",
      "[[[[ 1.  1.  1.  0.  0.]\n",
      "   [ 0.  1.  1.  1.  0.]\n",
      "   [ 0.  0.  1.  1.  1.]\n",
      "   [ 0.  0.  1.  1.  0.]\n",
      "   [ 0.  1.  1.  0.  0.]]]]\n",
      "\n",
      "Filter\n",
      "[[[[ 1.  0.  1.]\n",
      "   [ 0.  1.  0.]\n",
      "   [ 1.  0.  1.]]]]\n"
     ]
    }
   ],
   "source": [
    "#- 入力 (4次元)\n",
    "x = T.ftensor4('x')\n",
    "\n",
    "#- サンプル画像\n",
    "sample_image = np.array([[1, 1, 1, 0, 0], \n",
    "                         [0, 1, 1, 1, 0], \n",
    "                         [0, 0, 1, 1, 1], \n",
    "                         [0, 0, 1, 1, 0], \n",
    "                         [0, 1, 1, 0, 0]]).astype(\"float32\").reshape(1, 1, 5, 5)\n",
    "\n",
    "#- フィルタ\n",
    "W = np.array([[1,0,1],\n",
    "              [0,1,0],\n",
    "              [1,0,1]]).astype('float32').reshape(1, 1, 3, 3)\n",
    "\n",
    "print 'Sample image'\n",
    "print sample_image\n",
    "print ''\n",
    "print 'Filter'\n",
    "print W"
   ]
  },
  {
   "cell_type": "markdown",
   "metadata": {},
   "source": [
    "- ストライド(subsampleで指定): (1, 1)\n",
    "- パディング(border_modeで指定): なし ('valid')\n",
    "- 出力のサイズ: (5 - 3)/1 + 1 = 3"
   ]
  },
  {
   "cell_type": "code",
   "execution_count": 5,
   "metadata": {
    "collapsed": false
   },
   "outputs": [
    {
     "name": "stdout",
     "output_type": "stream",
     "text": [
      "[[ 4.  3.  4.]\n",
      " [ 2.  4.  3.]\n",
      " [ 2.  3.  4.]]\n"
     ]
    }
   ],
   "source": [
    "convoluted_image_st1x1 = conv2d(x, W, border_mode='valid', subsample=(1, 1))\n",
    "convolution = theano.function(inputs=[x], outputs=convoluted_image_st1x1, name='covolution')\n",
    "\n",
    "print convolution(sample_image).reshape(3, 3)"
   ]
  },
  {
   "cell_type": "markdown",
   "metadata": {},
   "source": [
    "- ストライド: (2, 2)\n",
    "- パディング: なし\n",
    "- 出力のサイズ: (5 - 3)/2 + 1 = 2"
   ]
  },
  {
   "cell_type": "code",
   "execution_count": 6,
   "metadata": {
    "collapsed": false
   },
   "outputs": [
    {
     "name": "stdout",
     "output_type": "stream",
     "text": [
      "[[ 4.  4.]\n",
      " [ 2.  3.]\n",
      " [ 2.  4.]]\n"
     ]
    }
   ],
   "source": [
    "convoluted_image_st2x2 = conv2d(x, W, border_mode='valid', subsample=(1,2))\n",
    "convolution_stride     = theano.function(inputs=[x], outputs=convoluted_image_st2x2, name='convolution')\n",
    "\n",
    "print convolution_stride(sample_image).reshape(3, 2)"
   ]
  },
  {
   "cell_type": "markdown",
   "metadata": {},
   "source": [
    "- ストライド: (1, 1)\n",
    "- パディング: full (2, 2)\n",
    "- 出力のサイズ: 5 + 3 - 1 = 7"
   ]
  },
  {
   "cell_type": "code",
   "execution_count": 7,
   "metadata": {
    "collapsed": false
   },
   "outputs": [
    {
     "name": "stdout",
     "output_type": "stream",
     "text": [
      "[[ 1.  1.  2.  1.  1.  0.  0.]\n",
      " [ 0.  2.  2.  3.  1.  1.  0.]\n",
      " [ 1.  1.  4.  3.  4.  1.  1.]\n",
      " [ 0.  1.  2.  4.  3.  3.  0.]\n",
      " [ 0.  1.  2.  3.  4.  1.  1.]\n",
      " [ 0.  0.  2.  2.  1.  1.  0.]\n",
      " [ 0.  1.  1.  1.  1.  0.  0.]]\n"
     ]
    }
   ],
   "source": [
    "convoluted_image_st1x1_full = conv2d(x, W, border_mode='full', subsample=(1,1))\n",
    "convolution_fullpadding     = theano.function(inputs=[x], outputs=convoluted_image_st1x1_full, name='covolution')\n",
    "\n",
    "print convolution_fullpadding(sample_image).reshape(7, 7)"
   ]
  },
  {
   "cell_type": "markdown",
   "metadata": {},
   "source": [
    "- ストライド: (1, 1)\n",
    "- パディング: (1, 1)\n",
    "- 出力のサイズ: (5 - 3 + 2)/1 + 1 = 5"
   ]
  },
  {
   "cell_type": "code",
   "execution_count": 8,
   "metadata": {
    "collapsed": false
   },
   "outputs": [
    {
     "name": "stdout",
     "output_type": "stream",
     "text": [
      "[[ 2.  2.  3.  1.  1.]\n",
      " [ 1.  4.  3.  4.  1.]\n",
      " [ 1.  2.  4.  3.  3.]\n",
      " [ 1.  2.  3.  4.  1.]\n",
      " [ 0.  2.  2.  1.  1.]]\n"
     ]
    }
   ],
   "source": [
    "convoluted_image_st1x1_same = conv2d(x, W, border_mode=(1,1), subsample=(1,1))\n",
    "convolution_samepadding     = theano.function(inputs=[x], outputs=convoluted_image_st1x1_same, name='covolution')\n",
    "\n",
    "print convolution_samepadding(sample_image).reshape(5, 5)"
   ]
  },
  {
   "cell_type": "markdown",
   "metadata": {},
   "source": [
    "#### プーリング: theano.tensor.signal.pool [[link]](http://deeplearning.net/software/theano/library/tensor/signal/pool.html)"
   ]
  },
  {
   "cell_type": "markdown",
   "metadata": {},
   "source": [
    "- プーリングには次の種類がある\n",
    "    - Max pooling (theanoでは'max')\n",
    "    - Sum pooling (theanoでは'sum')\n",
    "    - Mean pooling (theanoでは'average_exc_pad')\n",
    "    - その他Lpプーリングなど(theano未実装)\n",
    "- Convと同様，ストライドやパディングも考えることもある．\n",
    "    - ストライドはデフォルトではdsと同じ\n",
    "- ignore_border=Falseにすると，画像領域を超える"
   ]
  },
  {
   "cell_type": "markdown",
   "metadata": {},
   "source": [
    "sample image"
   ]
  },
  {
   "cell_type": "code",
   "execution_count": 9,
   "metadata": {
    "collapsed": false
   },
   "outputs": [
    {
     "name": "stdout",
     "output_type": "stream",
     "text": [
      "Sample image\n",
      "[[[[ 77.  80.  82.  78.  70.]\n",
      "   [ 83.  78.  80.  83.  82.]\n",
      "   [ 87.  82.  81.  80.  74.]\n",
      "   [ 87.  87.  85.  77.  66.]\n",
      "   [ 84.  79.  77.  78.  76.]]]]\n"
     ]
    }
   ],
   "source": [
    "#- 入力\n",
    "x = T.ftensor4('x')\n",
    "\n",
    "sample_image = np.array([[77, 80, 82, 78, 70], \n",
    "                         [83, 78, 80, 83, 82], \n",
    "                         [87, 82, 81, 80, 74], \n",
    "                         [87, 87, 85, 77, 66], \n",
    "                         [84, 79, 77, 78, 76]]).astype(\"float32\").reshape(1, 1, 5, 5)\n",
    "\n",
    "print 'Sample image'\n",
    "print sample_image"
   ]
  },
  {
   "cell_type": "markdown",
   "metadata": {},
   "source": [
    "- ウィンドウサイズ(dsで指定): (2, 2)\n",
    "- ストライド(stで指定. defaultではdsと同じ): (2, 2)\n",
    "- プーリング(modeで指定): 'max'"
   ]
  },
  {
   "cell_type": "code",
   "execution_count": 10,
   "metadata": {
    "collapsed": false
   },
   "outputs": [
    {
     "name": "stdout",
     "output_type": "stream",
     "text": [
      "[[ 83.  83.]\n",
      " [ 87.  85.]]\n"
     ]
    }
   ],
   "source": [
    "pooled_image = pool.pool_2d(input=x, ds=(2, 2), mode='max', ignore_border=True) # ストライド(st)はdefaultではdsと同じ\n",
    "pooling = theano.function(inputs=[x], outputs=pooled_image, name='pooling')\n",
    "\n",
    "print pooling(sample_image).reshape(2, 2)"
   ]
  },
  {
   "cell_type": "markdown",
   "metadata": {},
   "source": [
    "- ウィンドウサイズ: (2, 2)\n",
    "- ストライド: (1, 1)\n",
    "- max pooling"
   ]
  },
  {
   "cell_type": "code",
   "execution_count": 11,
   "metadata": {
    "collapsed": false
   },
   "outputs": [
    {
     "name": "stdout",
     "output_type": "stream",
     "text": [
      "[[ 83.  82.  83.  83.]\n",
      " [ 87.  82.  83.  83.]\n",
      " [ 87.  87.  85.  80.]\n",
      " [ 87.  87.  85.  78.]]\n"
     ]
    }
   ],
   "source": [
    "pooled_image_st1x1 = pool.pool_2d(input=x, ds=(2, 2), mode='max', ignore_border=True, st=(1,1))\n",
    "pooling_st1x1      = theano.function(inputs=[x], outputs=pooled_image_st1x1, name='pooling')\n",
    "\n",
    "print pooling_st1x1(sample_image).reshape(4, 4)"
   ]
  },
  {
   "cell_type": "markdown",
   "metadata": {},
   "source": [
    "- ウィンドウサイズ: (2, 2)\n",
    "- ストライド: (2, 2)\n",
    "- mean pooling"
   ]
  },
  {
   "cell_type": "code",
   "execution_count": 12,
   "metadata": {
    "collapsed": false
   },
   "outputs": [
    {
     "name": "stdout",
     "output_type": "stream",
     "text": [
      "[[ 79.5   80.75]\n",
      " [ 85.75  80.75]]\n"
     ]
    }
   ],
   "source": [
    "pooled_image_mean = pool.pool_2d(input=x, ds=(2, 2), mode='average_exc_pad', ignore_border=True)\n",
    "pooling_mean      = theano.function(inputs=[x], outputs=pooled_image_mean, name='pooling')\n",
    "\n",
    "print pooling_mean(sample_image).reshape(2, 2)"
   ]
  },
  {
   "cell_type": "markdown",
   "metadata": {},
   "source": [
    "### 3. 畳み込み層(Convolutional Layer)の実装"
   ]
  },
  {
   "cell_type": "code",
   "execution_count": 13,
   "metadata": {
    "collapsed": true
   },
   "outputs": [],
   "source": [
    "class Conv:\n",
    "    #- Constructor\n",
    "    def __init__(self, filter_shape, function, border_mode=\"valid\", subsample=(1, 1)):\n",
    "        # filter shape (k, l, i, j): 4次元\n",
    "        #  - k: フィルタ数(出力のチャネル数)\n",
    "        #  - l: 入力のチャネル数\n",
    "        #  - i: フィルタの行数\n",
    "        #  - j: フィルタの列数\n",
    "        \n",
    "        self.function = function\n",
    "        self.border_mode = border_mode\n",
    "        self.subsample = subsample\n",
    "        \n",
    "        self.W = theano.shared(rng.uniform(low=-0.08,high=0.08,size=filter_shape).astype(\"float32\"), name=\"W\")# WRITE ME! (HINT: Wのsizeはfilter_shapeと同じ)\n",
    "        self.b = theano.shared(np.zeros(filter_shape[0]).astype(\"float32\"), name=\"b\")# WRITE ME! (HINT: バイアスはフィルタごと)\n",
    "\n",
    "        self.params = [self.W, self.b]\n",
    "        \n",
    "    #- Forward Propagation\n",
    "    def f_prop(self, x):\n",
    "        conv_out = conv2d(x, self.W, border_mode=self.border_mode, subsample=self.subsample)# WRITE ME! (HINT: conv2dを使って畳み込み処理をする)\n",
    "        self.z   = self.function(conv_out + self.b[np.newaxis,:,np.newaxis,np.newaxis])# WRITE ME! (HINT: バイアスを加えて活性化関数をかける. bの次元に注意)\n",
    "        return self.z"
   ]
  },
  {
   "cell_type": "markdown",
   "metadata": {},
   "source": [
    "### 4. プーリング層(Pooling Layer)の実装"
   ]
  },
  {
   "cell_type": "code",
   "execution_count": 22,
   "metadata": {
    "collapsed": true
   },
   "outputs": [],
   "source": [
    "class Pooling:\n",
    "    #- Constructor\n",
    "    def __init__(self, pool_size=(2, 2), mode='max'):\n",
    "        self.pool_size = pool_size\n",
    "        self.mode = mode\n",
    "        self.params = []\n",
    "        \n",
    "    #- Forward Propagation\n",
    "    def f_prop(self, x):\n",
    "        return pool.pool_2d(input=x,ds=self.pool_size,mode=self.mode,ignore_border=True)# WRITE ME! (HINT: pool.pool_2dを使ってプーリングを行う)"
   ]
  },
  {
   "cell_type": "markdown",
   "metadata": {},
   "source": [
    "### 5. 平滑化層(Flatten Layer)"
   ]
  },
  {
   "cell_type": "code",
   "execution_count": 23,
   "metadata": {
    "collapsed": true
   },
   "outputs": [],
   "source": [
    "class Flatten:\n",
    "    #- Constructor\n",
    "    def __init__(self, outdim=2):\n",
    "        self.outdim = outdim\n",
    "        self.params = []\n",
    "\n",
    "    #- Forward Propagation\n",
    "    def f_prop(self,x):\n",
    "        return T.flatten(x, self.outdim)"
   ]
  },
  {
   "cell_type": "markdown",
   "metadata": {},
   "source": [
    "### 6. 全結合層"
   ]
  },
  {
   "cell_type": "code",
   "execution_count": 24,
   "metadata": {
    "collapsed": false
   },
   "outputs": [],
   "source": [
    "class Layer:\n",
    "    #- Constructor\n",
    "    def __init__(self, in_dim, out_dim, function):\n",
    "        self.in_dim = in_dim\n",
    "        self.out_dim = out_dim\n",
    "        self.function = function\n",
    "\n",
    "        self.W = theano.shared(rng.uniform(\n",
    "                    low=-np.sqrt(6. / (in_dim + out_dim)),\n",
    "                    high=np.sqrt(6. / (in_dim + out_dim)),\n",
    "                    size=(in_dim,out_dim)\n",
    "                ).astype(\"float32\"), name=\"W\")       \n",
    "        self.b =  theano.shared(np.zeros(out_dim).astype(\"float32\"), name=\"b\")\n",
    "        self.params = [ self.W, self.b ]\n",
    "        \n",
    "    #- Forward Propagation\n",
    "    def f_prop(self, x):\n",
    "        self.z = self.function(T.dot(x, self.W) + self.b)\n",
    "        return self.z"
   ]
  },
  {
   "cell_type": "markdown",
   "metadata": {},
   "source": [
    "### 7. 更新則"
   ]
  },
  {
   "cell_type": "code",
   "execution_count": 25,
   "metadata": {
    "collapsed": true
   },
   "outputs": [],
   "source": [
    "#--- Stochastic Gradient Descent\n",
    "def sgd(params, g_params, eps=np.float32(0.1)):\n",
    "    updates = OrderedDict()\n",
    "    for param, g_param in zip(params, g_params):\n",
    "        updates[param] = param - eps * g_param\n",
    "        # WRITE ME!\n",
    "    return updates"
   ]
  },
  {
   "cell_type": "markdown",
   "metadata": {},
   "source": [
    "### 8. ネットワークの定義"
   ]
  },
  {
   "cell_type": "code",
   "execution_count": 26,
   "metadata": {
    "collapsed": false
   },
   "outputs": [],
   "source": [
    "activation = T.tanh\n",
    "\n",
    "layers = [\n",
    "    Conv((20, 1, 5, 5),activation),  # 28x28x 1 -> 24x24x20\n",
    "    Pooling((2, 2)),                 # 24x24x20 -> 12x12x20\n",
    "    Conv((50, 20, 5, 5),activation), # 12x12x20 ->  8x 8x50\n",
    "    Pooling((2, 2)),                 #  8x 8x50 ->  4x 4x50\n",
    "    Flatten(2),\n",
    "    Layer(4*4*50, 500, activation),\n",
    "    Layer(500, 10, T.nnet.softmax)\n",
    "]"
   ]
  },
  {
   "cell_type": "markdown",
   "metadata": {},
   "source": [
    "### 9. train関数とtest関数とvalid関数"
   ]
  },
  {
   "cell_type": "code",
   "execution_count": 27,
   "metadata": {
    "collapsed": false
   },
   "outputs": [],
   "source": [
    "x = T.ftensor4('x')\n",
    "t = T.imatrix('t')\n",
    "\n",
    "params = []\n",
    "layer_out = x\n",
    "for layer in layers:\n",
    "    params += layer.params\n",
    "    layer_out = layer.f_prop(layer_out)\n",
    "\n",
    "y = layers[-1].z\n",
    "\n",
    "cost = T.mean(T.nnet.categorical_crossentropy(y, t))\n",
    "\n",
    "g_params = T.grad(cost, params)\n",
    "updates = sgd(params, g_params)\n",
    "\n",
    "train = theano.function(inputs=[x, t], outputs=cost, updates=updates, allow_input_downcast=True, name='train')\n",
    "valid = theano.function(inputs=[x, t], outputs=[cost, T.argmax(y, axis=1)], allow_input_downcast=True, name='valid')\n",
    "test  = theano.function(inputs=[x], outputs=T.argmax(y, axis=1), name='test')"
   ]
  },
  {
   "cell_type": "markdown",
   "metadata": {},
   "source": [
    "### 10. 学習"
   ]
  },
  {
   "cell_type": "code",
   "execution_count": 30,
   "metadata": {
    "collapsed": false
   },
   "outputs": [
    {
     "name": "stdout",
     "output_type": "stream",
     "text": [
      "EPOCH:: 1, Validation cost: 0.033, Validation F1: 0.990\n",
      "EPOCH:: 11, Validation cost: 0.034, Validation F1: 0.990\n",
      "EPOCH:: 21, Validation cost: 0.035, Validation F1: 0.990\n",
      "EPOCH:: 31, Validation cost: 0.036, Validation F1: 0.990\n",
      "EPOCH:: 41, Validation cost: 0.037, Validation F1: 0.990\n",
      "EPOCH:: 51, Validation cost: 0.037, Validation F1: 0.991\n",
      "EPOCH:: 61, Validation cost: 0.038, Validation F1: 0.991\n",
      "EPOCH:: 71, Validation cost: 0.038, Validation F1: 0.990\n",
      "EPOCH:: 81, Validation cost: 0.039, Validation F1: 0.991\n",
      "EPOCH:: 91, Validation cost: 0.039, Validation F1: 0.990\n"
     ]
    }
   ],
   "source": [
    "batch_size = 100\n",
    "n_batches = train_X.shape[0]//batch_size\n",
    "for epoch in xrange(100):\n",
    "    train_X, train_y = shuffle(train_X, train_y)\n",
    "    for i in xrange(n_batches):\n",
    "        start = i*batch_size\n",
    "        end = start + batch_size\n",
    "        train(train_X[start:end], train_y[start:end])\n",
    "    valid_cost, pred_y = valid(valid_X, valid_y)\n",
    "    if epoch % 10 == 0:\n",
    "        print 'EPOCH:: %i, Validation cost: %.3f, Validation F1: %.3f' % (epoch + 1, valid_cost, f1_score(np.argmax(valid_y, axis=1).astype('int32'), pred_y, average='macro'))"
   ]
  },
  {
   "cell_type": "code",
   "execution_count": null,
   "metadata": {
    "collapsed": true
   },
   "outputs": [],
   "source": []
  }
 ],
 "metadata": {
  "kernelspec": {
   "display_name": "Python 2",
   "language": "python",
   "name": "python2"
  },
  "language_info": {
   "codemirror_mode": {
    "name": "ipython",
    "version": 2
   },
   "file_extension": ".py",
   "mimetype": "text/x-python",
   "name": "python",
   "nbconvert_exporter": "python",
   "pygments_lexer": "ipython2",
   "version": "2.7.12"
  }
 },
 "nbformat": 4,
 "nbformat_minor": 0
}
