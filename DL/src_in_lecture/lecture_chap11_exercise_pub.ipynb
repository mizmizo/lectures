{
 "cells": [
  {
   "cell_type": "markdown",
   "metadata": {},
   "source": [
    "# 第11回講義 演習"
   ]
  },
  {
   "cell_type": "code",
   "execution_count": 1,
   "metadata": {
    "collapsed": false
   },
   "outputs": [
    {
     "name": "stderr",
     "output_type": "stream",
     "text": [
      "Using gpu device 0: GRID K520 (CNMeM is enabled with initial size: 95.0% of memory, cuDNN 4007)\n"
     ]
    }
   ],
   "source": [
    "from __future__ import division\n",
    "from collections import OrderedDict, Counter\n",
    "from sklearn.utils import shuffle\n",
    "from sklearn.metrics import f1_score\n",
    "from sklearn.cross_validation import train_test_split\n",
    "from gensim.models.word2vec import Word2Vec\n",
    "from theano.sandbox.rng_mrg import MRG_RandomStreams as RandomStreams\n",
    "\n",
    "import numpy as np\n",
    "import theano\n",
    "import theano.tensor as T\n",
    "\n",
    "rng = np.random.RandomState(42)\n",
    "trng = RandomStreams(42)"
   ]
  },
  {
   "cell_type": "markdown",
   "metadata": {},
   "source": [
    "## 課題1. Word2vec"
   ]
  },
  {
   "cell_type": "code",
   "execution_count": 2,
   "metadata": {
    "collapsed": true
   },
   "outputs": [],
   "source": [
    "class Corpus:\n",
    "    def __init__(self, file_path):\n",
    "        self.file_path = file_path\n",
    "    \n",
    "    def __iter__(self):\n",
    "        for line in open(self.file_path):\n",
    "            instance = [l.strip().split() for l in line.split('|||')]\n",
    "            # Return format : ['i', 'have', 'a', 'pen']\n",
    "            yield instance[0]"
   ]
  },
  {
   "cell_type": "code",
   "execution_count": 3,
   "metadata": {
    "collapsed": false
   },
   "outputs": [],
   "source": [
    "# 文を返すイテレータを書く\n",
    "sentences = Corpus('train.unk')"
   ]
  },
  {
   "cell_type": "code",
   "execution_count": 4,
   "metadata": {
    "collapsed": false
   },
   "outputs": [],
   "source": [
    "# sg -> Skipgram, hs -> hierachical softmax (not explained), negative -> negative sample size\n",
    "model = Word2Vec(sentences, size=100, window=5, min_count=5, workers=4, sg=1, hs=0, negative=100)"
   ]
  },
  {
   "cell_type": "code",
   "execution_count": 5,
   "metadata": {
    "collapsed": false
   },
   "outputs": [
    {
     "data": {
      "text/plain": [
       "0.92517703564983433"
      ]
     },
     "execution_count": 5,
     "metadata": {},
     "output_type": "execute_result"
    }
   ],
   "source": [
    "# similarity\n",
    "model.similarity('woman', 'man')"
   ]
  },
  {
   "cell_type": "code",
   "execution_count": 6,
   "metadata": {
    "collapsed": false
   },
   "outputs": [
    {
     "data": {
      "text/plain": [
       "[('Stanley', 0.935018002986908),\n",
       " ('Grenfell', 0.8918687701225281),\n",
       " ('Peabody', 0.8881924152374268),\n",
       " ('Oppenheimer', 0.8812254667282104),\n",
       " ('underwriter', 0.8702781796455383),\n",
       " ('Stearns', 0.8643594980239868),\n",
       " ('Bear', 0.8634917140007019),\n",
       " ('Geneva', 0.8613843321800232),\n",
       " ('Alex', 0.8571962118148804),\n",
       " ('Sachs', 0.8532192707061768)]"
      ]
     },
     "execution_count": 6,
     "metadata": {},
     "output_type": "execute_result"
    }
   ],
   "source": [
    "# model.most_similar(positive=['bank', 'company'], negative=['money'])\n",
    "model.most_similar(positive=['Morgan'])"
   ]
  },
  {
   "cell_type": "markdown",
   "metadata": {},
   "source": [
    "\n",
    "## 課題2. Recurrent Neural Network (RNN) Encoder-Decoderモデルで日中翻訳"
   ]
  },
  {
   "cell_type": "markdown",
   "metadata": {
    "collapsed": true
   },
   "source": [
    "### 1. データセットの読み込みと単語・品詞のID化"
   ]
  },
  {
   "cell_type": "markdown",
   "metadata": {},
   "source": [
    "train.zh-enの中身 (中国語の文 ||| 英語の文)\n",
    "```\n",
    "<s> 我 能 赶上 去 UNK 饭店 的 巴士 吗 ? </s> ||| <s> can i catch a bus that goes to the hilton hotel ? </s>\n",
    "<s> 有 去 市里 的 火车 吗 ? </s> ||| <s> is there a train that goes to the city ? </s>\n",
    "<s> 在 UNK 下面 。 </s> ||| <s> it 's just down the hall . </s>\n",
    "...\n",
    "```"
   ]
  },
  {
   "cell_type": "code",
   "execution_count": 7,
   "metadata": {
    "collapsed": false
   },
   "outputs": [],
   "source": [
    "def build_vocab(file_path):\n",
    "    f_vocab, e_vocab = set(), set()\n",
    "    for line in open(file_path):\n",
    "        f, e = [l.strip().split()[1:-1] for l in line.split('|||')]\n",
    "        f_vocab.update(f)\n",
    "        e_vocab.update(e)\n",
    "    \n",
    "    f_w2i = {w: np.int32(i+2) for i, w in enumerate(f_vocab)}\n",
    "    e_w2i = {w: np.int32(i+2) for i, w in enumerate(e_vocab)}\n",
    "    \n",
    "    f_w2i['<s>'], f_w2i['</s>'] = np.int32(0), np.int32(1)\n",
    "    e_w2i['<s>'], e_w2i['</s>'] = np.int32(0), np.int32(1)\n",
    "    return set(f_w2i.keys()), set(e_w2i.keys()), f_w2i, e_w2i\n",
    "    \n",
    "def encode(sentence, vocab, w2i):\n",
    "    encoded_sentence = []\n",
    "    for w in sentence:\n",
    "        if w in vocab:\n",
    "            encoded_sentence.append(w2i[w])\n",
    "        else:\n",
    "            encoded_sentence.append(w2i['UNK'])\n",
    "    return encoded_sentence\n",
    "    \n",
    "def decode(encoded_sentence, w2i):\n",
    "    i2w = {i:w for w, i in w2i.items()}\n",
    "    decoded_sentence = []\n",
    "    for i in encoded_sentence:\n",
    "        decoded_sentence.append(i2w[i])\n",
    "    return decoded_sentence\n",
    "    \n",
    "def load_data(file_path, f_vocab, e_vocab, f_w2i, e_w2i):\n",
    "    x, y = [], []\n",
    "    for line in open(file_path):\n",
    "        f, e = [l.strip().split() for l in line.split('|||')]\n",
    "        f_enc = encode(f, f_vocab, f_w2i)\n",
    "        e_enc = encode(e, e_vocab, e_w2i)\n",
    "        x.append(f_enc)\n",
    "        y.append(e_enc)\n",
    "    return x, y\n",
    "\n",
    "f_vocab, e_vocab, f_w2i, e_w2i = build_vocab('./train.zh-en')\n",
    "train_X, train_y = load_data('./train.zh-en', f_vocab, e_vocab, f_w2i, e_w2i)\n",
    "train_X, test_X, train_y, test_y = train_test_split(train_X, train_y, test_size=0.2, random_state=42)"
   ]
  },
  {
   "cell_type": "markdown",
   "metadata": {},
   "source": [
    "### 2. 単語のembedding"
   ]
  },
  {
   "cell_type": "code",
   "execution_count": 8,
   "metadata": {
    "collapsed": true
   },
   "outputs": [],
   "source": [
    "def sharedX(X, name=None, dtype=\"float32\"):\n",
    "    return theano.shared(np.array(X, dtype=dtype), name=name)\n",
    "\n",
    "class Projection:\n",
    "    def __init__(self, in_dim, out_dim, scale):\n",
    "        self.V = sharedX(rng.randn(in_dim, out_dim)*scale, name='V')\n",
    "        self.params = [self.V]\n",
    "\n",
    "    def f_prop(self, x):\n",
    "        x_emb = self.V[x]\n",
    "        return x_emb"
   ]
  },
  {
   "cell_type": "markdown",
   "metadata": {},
   "source": [
    "### 3. Long short-term memory (LSTM)"
   ]
  },
  {
   "cell_type": "markdown",
   "metadata": {},
   "source": [
    "LSTMの構造はスライド参照"
   ]
  },
  {
   "cell_type": "markdown",
   "metadata": {},
   "source": [
    "- 入力ゲート: $\\hspace{20mm}i_t = \\sigma \\left( W_{xi} x_t + W_{hi} h_{t-1} + W_{ci} c_{t-1} + b_i \\right)$\n",
    "- 忘却ゲート: $\\hspace{20mm}f_t = \\sigma \\left( W_{xf} x_t + W_{hf} h_{t-1} + W_{cf} c_{t-1} + b_f \\right)$  \n",
    "- セル:　　　 $\\hspace{20mm}c_t = f_t c_{t-1} + i_t \\tanh \\left( W_{xc} x_t + W_{hc} h_{t-1} + b_c \\right)$  \n",
    "- 出力ゲート: $\\hspace{20mm}o_t = \\sigma \\left( W_{xo} x_t + W_{ho} h_{t-1} + W_{co} c_{t} + b_o \\right)$  \n",
    "- 隠れ層: 　　$\\hspace{20mm}h_t = o_t\\tanh \\left( c_t \\right)$"
   ]
  },
  {
   "cell_type": "code",
   "execution_count": 19,
   "metadata": {
    "collapsed": true
   },
   "outputs": [],
   "source": [
    "class LSTM:\n",
    "    def __init__(self, in_dim, out_dim, scale=0.01, h_0=None, c_0=None):\n",
    "        \n",
    "        #- Input gate\n",
    "        self.W_xi = sharedX(rng.randn(in_dim, out_dim)*scale, name='W_xi')\n",
    "        self.W_hi = sharedX(rng.randn(out_dim, out_dim)*scale, name='W_hi')\n",
    "        self.W_ci = sharedX(rng.randn(out_dim, out_dim)*scale, name='W_ci')\n",
    "        self.b_i  = sharedX(rng.randn(out_dim)*scale, name='b_i')\n",
    "        \n",
    "        #- Forget gate\n",
    "        self.W_xf = sharedX(rng.randn(in_dim, out_dim)*scale, name='W_xf')\n",
    "        self.W_hf = sharedX(rng.randn(out_dim, out_dim)*scale, name='W_hf')\n",
    "        self.W_cf = sharedX(rng.randn(out_dim, out_dim)*scale, name='W_cf')\n",
    "        self.b_f  = sharedX(rng.randn(out_dim)*scale, name='b_f')\n",
    "        \n",
    "        #- Cell state\n",
    "        self.W_xc = sharedX(rng.randn(in_dim, out_dim)*scale, name='W_xc')\n",
    "        self.W_hc = sharedX(rng.randn(out_dim ,out_dim)*scale, name='W_hc')\n",
    "        self.b_c  = sharedX(rng.randn(out_dim)*scale, name='b_c')\n",
    "        \n",
    "        #- Output gate\n",
    "        self.W_xo = sharedX(rng.randn(in_dim, out_dim)*scale, name='W_xo')\n",
    "        self.W_ho = sharedX(rng.randn(out_dim, out_dim)*scale, name='W_ho')\n",
    "        self.W_co = sharedX(rng.randn(out_dim, out_dim)*scale, name='W_co')\n",
    "        self.b_o  = sharedX(rng.randn(out_dim)*scale, name='b_o')\n",
    "\n",
    "        #- Initial state\n",
    "        if h_0 is None:\n",
    "            self.h_0 = sharedX(np.zeros(out_dim), name='h_0')\n",
    "        else:\n",
    "            self.h_0 = h_0\n",
    "        if c_0 is None:\n",
    "            self.c_0 = sharedX(np.zeros(out_dim), name='c_0')\n",
    "        else:\n",
    "            self.c_0 = c_0\n",
    "\n",
    "        self.output_info = [self.h_0, self.c_0]\n",
    "        self.params = [self.W_xf, self.W_hf, self.W_cf, self.b_f\n",
    "                       , self.W_xi, self.W_hi, self.W_ci, self.b_i\n",
    "                       , self.W_xc, self.W_hc, self.b_c\n",
    "                       , self.W_xo, self.W_ho, self.W_co, self.b_o]\n",
    "    \n",
    "    def f_prop(self, x):\n",
    "        def fn(x, h_tm1, c_tm1):\n",
    "            # Input gate\n",
    "            i_t = T.nnet.sigmoid(T.dot(x, self.W_xi) + T.dot(h_tm1, self.W_hi) + T.dot(c_tm1, self.W_ci) + self.b_i)\n",
    "            \n",
    "            # Forget gate\n",
    "            f_t =  T.nnet.sigmoid(T.dot(x, self.W_xf) + T.dot(h_tm1, self.W_hf) + T.dot(c_tm1, self.W_cf) + self.b_f)\n",
    "            \n",
    "            # Cell state\n",
    "            c_t = f_t * c_tm1 + i_t * T.tanh(T.dot(x, self.W_xc) + T.dot(h_tm1, self.W_hc) + self.b_c)\n",
    "            \n",
    "            # Output gate\n",
    "            o_t = T.nnet.sigmoid(T.dot(x, self.W_xo) + T.dot(h_tm1, self.W_ho) + T.dot(c_tm1, self.W_co) + self.b_o)\n",
    "            \n",
    "            # Hidden state\n",
    "            h_t = o_t * T.tanh(c_t)\n",
    "            \n",
    "            return h_t, c_t\n",
    "        \n",
    "        [h,c], _ = theano.scan(fn = fn, sequences=[x],outputs_info=self.output_info)\n",
    "        \n",
    "        return h"
   ]
  },
  {
   "cell_type": "markdown",
   "metadata": {},
   "source": [
    "### 4. 線形層"
   ]
  },
  {
   "cell_type": "code",
   "execution_count": 20,
   "metadata": {
    "collapsed": true
   },
   "outputs": [],
   "source": [
    "class Linear:\n",
    "    def __init__(self, in_dim, out_dim, scale):\n",
    "        self.W_out = sharedX(rng.randn(in_dim, out_dim)*scale, name='W_out')\n",
    "        self.b_out = sharedX(rng.randn(out_dim,)*scale, name='b_out')\n",
    "        self.params = [self.W_out, self.b_out]\n",
    "\n",
    "    def f_prop(self, x):\n",
    "        z = T.dot(x, self.W_out) + self.b_out\n",
    "        return z"
   ]
  },
  {
   "cell_type": "markdown",
   "metadata": {},
   "source": [
    "### 5. 活性化層"
   ]
  },
  {
   "cell_type": "code",
   "execution_count": 21,
   "metadata": {
    "collapsed": true
   },
   "outputs": [],
   "source": [
    "class Activation:\n",
    "    def __init__(self, function):\n",
    "        self.function = function\n",
    "        self.params = []\n",
    "\n",
    "    def f_prop(self, x):\n",
    "        self.z = self.function(x)\n",
    "        return self.z"
   ]
  },
  {
   "cell_type": "markdown",
   "metadata": {},
   "source": [
    "### 6. 更新則"
   ]
  },
  {
   "cell_type": "code",
   "execution_count": 38,
   "metadata": {
    "collapsed": true
   },
   "outputs": [],
   "source": [
    "def sgd(cost, params, eps=np.float32(0.1)):\n",
    "    g_params = T.grad(cost, params)\n",
    "    updates = OrderedDict()\n",
    "    for param, g_param in zip(params, g_params):\n",
    "        updates[param] = param - eps*g_param\n",
    "    return updates\n",
    "\n",
    "def Adam(params, g_params, lr=0.001, b1=0.1, b2=0.001, e=1e-8):\n",
    "    updates = []\n",
    "    i = theano.shared(np.float32(0.))\n",
    "    i_t = i + 1.\n",
    "    fix1 = 1. - (1. - b1)**i_t\n",
    "    fix2 = 1. - (1. - b2)**i_t\n",
    "    lr_t = lr * (T.sqrt(fix2) / fix1)\n",
    "    for p, g in zip(params, g_params):\n",
    "        m = theano.shared(p.get_value() * 0.)\n",
    "        v = theano.shared(p.get_value() * 0.)\n",
    "        m_t = (b1 * g) + ((1. - b1) * m)\n",
    "        v_t = (b2 * T.sqr(g)) + ((1. - b2) * v)\n",
    "        g_t = m_t / (T.sqrt(v_t) + e)\n",
    "        p_t = p - (lr_t * g_t)\n",
    "        updates.append((m, m_t))\n",
    "        updates.append((v, v_t))\n",
    "        updates.append((p, p_t))\n",
    "    updates.append((i, i_t))\n",
    "    return updates"
   ]
  },
  {
   "cell_type": "markdown",
   "metadata": {},
   "source": [
    "### 7. ネットワークの定義"
   ]
  },
  {
   "cell_type": "code",
   "execution_count": 54,
   "metadata": {
    "collapsed": false
   },
   "outputs": [],
   "source": [
    "x = T.ivector('x')\n",
    "t = T.ivector('t')\n",
    "\n",
    "# Target\n",
    "\n",
    "#<s> I like ---</s>#\n",
    "#|<-        ->| in#\n",
    "##   |<-        ->|out#\n",
    "t_in = t[:-1]\n",
    "t_out = t[1:]\n",
    "\n",
    "hid_dim = 500\n",
    "out_dim = len(e_vocab)\n",
    "\n",
    "def f_props(layers, x):\n",
    "    layer_out = x\n",
    "    for i, layer in enumerate(layers):\n",
    "        if i == 0:\n",
    "            layer_out = layer.f_prop(x)\n",
    "        else:\n",
    "            layer_out = layer.f_prop(layer_out)\n",
    "    return layer_out\n",
    "\n",
    "encoder = [\n",
    "    Projection(len(f_vocab),500, scale=0.01),\n",
    "    LSTM(in_dim = 500,out_dim = hid_dim),\n",
    "]\n",
    "\n",
    "h_enc = f_props(encoder, x)[-1] # Take the last state of encoder\n",
    "\n",
    "decoder = [\n",
    "    Projection(len(e_vocab),500, scale=0.01),\n",
    "    LSTM(in_dim = 500,out_dim = hid_dim, h_0 = h_enc),\n",
    "    Linear(in_dim = hid_dim, out_dim = out_dim, scale = 0.01),\n",
    "    Activation(T.nnet.softmax)\n",
    "]"
   ]
  },
  {
   "cell_type": "markdown",
   "metadata": {},
   "source": [
    "### 8. train関数とvalid関数とtest関数"
   ]
  },
  {
   "cell_type": "code",
   "execution_count": 55,
   "metadata": {
    "collapsed": false
   },
   "outputs": [],
   "source": [
    "def join(layers):\n",
    "    params = []\n",
    "    for layer in layers:\n",
    "        params += layer.params\n",
    "    return params\n",
    "\n",
    "y = f_props(decoder, t_in)\n",
    "cost = T.mean(T.nnet.categorical_crossentropy(y, t_out))\n",
    "\n",
    "params = join(encoder + decoder)\n",
    "gparams = T.grad(cost, params)\n",
    "updates = sgd(cost, params, eps=np.float32(0.2))\n",
    "#updates = Adam(params, gparams, lr=0.01, b1=0.1, b2=0.005, e=1e-6)\n",
    "\n",
    "train = theano.function(inputs=[x, t], outputs=cost, updates=updates)\n",
    "valid = theano.function(inputs=[x, t], outputs=cost)\n",
    "test  = theano.function(inputs=[x, t], outputs=[cost, T.argmax(y, axis=1)])"
   ]
  },
  {
   "cell_type": "code",
   "execution_count": 57,
   "metadata": {
    "collapsed": false
   },
   "outputs": [
    {
     "data": {
      "text/plain": [
       "35212"
      ]
     },
     "execution_count": 57,
     "metadata": {},
     "output_type": "execute_result"
    }
   ],
   "source": [
    "len(train_X)"
   ]
  },
  {
   "cell_type": "markdown",
   "metadata": {},
   "source": [
    "### 9. 学習"
   ]
  },
  {
   "cell_type": "code",
   "execution_count": 58,
   "metadata": {
    "collapsed": false,
    "scrolled": false
   },
   "outputs": [
    {
     "name": "stdout",
     "output_type": "stream",
     "text": [
      "EPOCH:: 1, Iteration 0, Training Cost: 0.003\n",
      "EPOCH:: 1, Iteration 1000, Training Cost: 3.036\n",
      "EPOCH:: 1, Iteration 2000, Training Cost: 2.981\n",
      "EPOCH:: 1, Iteration 3000, Training Cost: 3.033\n",
      "EPOCH:: 1, Iteration 4000, Training Cost: 2.983\n",
      "EPOCH:: 1, Iteration 5000, Training Cost: 2.946\n",
      "EPOCH:: 1, Iteration 6000, Training Cost: 2.969\n",
      "EPOCH:: 1, Iteration 7000, Training Cost: 2.922\n",
      "EPOCH:: 1, Iteration 8000, Training Cost: 2.905\n",
      "EPOCH:: 1, Iteration 9000, Training Cost: 2.920\n",
      "EPOCH:: 1, Iteration 10000, Training Cost: 2.889\n",
      "EPOCH:: 1, Iteration 11000, Training Cost: 2.915\n",
      "EPOCH:: 1, Iteration 12000, Training Cost: 2.912\n",
      "EPOCH:: 1, Iteration 13000, Training Cost: 2.890\n",
      "EPOCH:: 1, Iteration 14000, Training Cost: 2.902\n",
      "EPOCH:: 1, Iteration 15000, Training Cost: 2.930\n",
      "EPOCH:: 1, Iteration 16000, Training Cost: 2.918\n",
      "EPOCH:: 1, Iteration 17000, Training Cost: 2.922\n",
      "EPOCH:: 1, Iteration 18000, Training Cost: 2.860\n",
      "EPOCH:: 1, Iteration 19000, Training Cost: 2.807\n",
      "EPOCH:: 1, Iteration 20000, Training Cost: 2.866\n",
      "EPOCH:: 1, Iteration 21000, Training Cost: 2.826\n",
      "EPOCH:: 1, Iteration 22000, Training Cost: 2.828\n",
      "EPOCH:: 1, Iteration 23000, Training Cost: 2.824\n",
      "EPOCH:: 1, Iteration 24000, Training Cost: 2.845\n",
      "EPOCH:: 1, Iteration 25000, Training Cost: 2.840\n",
      "EPOCH:: 1, Iteration 26000, Training Cost: 2.795\n",
      "EPOCH:: 1, Iteration 27000, Training Cost: 2.791\n",
      "EPOCH:: 1, Iteration 28000, Training Cost: 2.772\n",
      "EPOCH:: 1, Iteration 29000, Training Cost: 2.754\n",
      "EPOCH:: 1, Iteration 30000, Training Cost: 2.757\n",
      "EPOCH:: 1, Iteration 31000, Training Cost: 2.781\n",
      "EPOCH:: 1, Iteration 32000, Training Cost: 2.739\n",
      "EPOCH:: 1, Iteration 33000, Training Cost: 2.719\n",
      "EPOCH:: 1, Iteration 34000, Training Cost: 2.786\n",
      "EPOCH:: 1, Iteration 35000, Training Cost: 2.760\n"
     ]
    },
    {
     "ename": "KeyboardInterrupt",
     "evalue": "",
     "output_type": "error",
     "traceback": [
      "\u001b[1;31m---------------------------------------------------------------------------\u001b[0m",
      "\u001b[1;31mKeyboardInterrupt\u001b[0m                         Traceback (most recent call last)",
      "\u001b[1;32m<ipython-input-58-bd082a53d083>\u001b[0m in \u001b[0;36m<module>\u001b[1;34m()\u001b[0m\n\u001b[0;32m      4\u001b[0m     \u001b[0mtrain_X\u001b[0m\u001b[1;33m,\u001b[0m \u001b[0mtrain_y\u001b[0m \u001b[1;33m=\u001b[0m \u001b[0mshuffle\u001b[0m\u001b[1;33m(\u001b[0m\u001b[0mtrain_X\u001b[0m\u001b[1;33m,\u001b[0m \u001b[0mtrain_y\u001b[0m\u001b[1;33m)\u001b[0m  \u001b[1;31m# Shuffle Samples !!\u001b[0m\u001b[1;33m\u001b[0m\u001b[0m\n\u001b[0;32m      5\u001b[0m     \u001b[1;32mfor\u001b[0m \u001b[0mi\u001b[0m\u001b[1;33m,\u001b[0m \u001b[1;33m(\u001b[0m\u001b[0minstance_x\u001b[0m\u001b[1;33m,\u001b[0m \u001b[0minstance_y\u001b[0m\u001b[1;33m)\u001b[0m \u001b[1;32min\u001b[0m \u001b[0menumerate\u001b[0m\u001b[1;33m(\u001b[0m\u001b[0mzip\u001b[0m\u001b[1;33m(\u001b[0m\u001b[0mtrain_X\u001b[0m\u001b[1;33m,\u001b[0m \u001b[0mtrain_y\u001b[0m\u001b[1;33m)\u001b[0m\u001b[1;33m)\u001b[0m\u001b[1;33m:\u001b[0m\u001b[1;33m\u001b[0m\u001b[0m\n\u001b[1;32m----> 6\u001b[1;33m         \u001b[0mtrain_cost\u001b[0m \u001b[1;33m=\u001b[0m \u001b[0mtrain\u001b[0m\u001b[1;33m(\u001b[0m\u001b[0minstance_x\u001b[0m\u001b[1;33m,\u001b[0m \u001b[0minstance_y\u001b[0m\u001b[1;33m)\u001b[0m\u001b[1;33m\u001b[0m\u001b[0m\n\u001b[0m\u001b[0;32m      7\u001b[0m         \u001b[0mcost_mean\u001b[0m \u001b[1;33m+=\u001b[0m \u001b[0mtrain_cost\u001b[0m\u001b[1;33m\u001b[0m\u001b[0m\n\u001b[0;32m      8\u001b[0m         \u001b[1;32mif\u001b[0m \u001b[0mi\u001b[0m\u001b[1;33m%\u001b[0m\u001b[1;36m1000\u001b[0m \u001b[1;33m==\u001b[0m \u001b[1;36m0\u001b[0m\u001b[1;33m:\u001b[0m\u001b[1;33m\u001b[0m\u001b[0m\n",
      "\u001b[1;32m/home/ubuntu/anaconda2/lib/python2.7/site-packages/theano/compile/function_module.pyc\u001b[0m in \u001b[0;36m__call__\u001b[1;34m(self, *args, **kwargs)\u001b[0m\n\u001b[0;32m    857\u001b[0m         \u001b[0mt0_fn\u001b[0m \u001b[1;33m=\u001b[0m \u001b[0mtime\u001b[0m\u001b[1;33m.\u001b[0m\u001b[0mtime\u001b[0m\u001b[1;33m(\u001b[0m\u001b[1;33m)\u001b[0m\u001b[1;33m\u001b[0m\u001b[0m\n\u001b[0;32m    858\u001b[0m         \u001b[1;32mtry\u001b[0m\u001b[1;33m:\u001b[0m\u001b[1;33m\u001b[0m\u001b[0m\n\u001b[1;32m--> 859\u001b[1;33m             \u001b[0moutputs\u001b[0m \u001b[1;33m=\u001b[0m \u001b[0mself\u001b[0m\u001b[1;33m.\u001b[0m\u001b[0mfn\u001b[0m\u001b[1;33m(\u001b[0m\u001b[1;33m)\u001b[0m\u001b[1;33m\u001b[0m\u001b[0m\n\u001b[0m\u001b[0;32m    860\u001b[0m         \u001b[1;32mexcept\u001b[0m \u001b[0mException\u001b[0m\u001b[1;33m:\u001b[0m\u001b[1;33m\u001b[0m\u001b[0m\n\u001b[0;32m    861\u001b[0m             \u001b[1;32mif\u001b[0m \u001b[0mhasattr\u001b[0m\u001b[1;33m(\u001b[0m\u001b[0mself\u001b[0m\u001b[1;33m.\u001b[0m\u001b[0mfn\u001b[0m\u001b[1;33m,\u001b[0m \u001b[1;34m'position_of_error'\u001b[0m\u001b[1;33m)\u001b[0m\u001b[1;33m:\u001b[0m\u001b[1;33m\u001b[0m\u001b[0m\n",
      "\u001b[1;32m/home/ubuntu/anaconda2/lib/python2.7/site-packages/theano/scan_module/scan_op.pyc\u001b[0m in \u001b[0;36mrval\u001b[1;34m(p, i, o, n, allow_gc)\u001b[0m\n\u001b[0;32m    949\u001b[0m         def rval(p=p, i=node_input_storage, o=node_output_storage, n=node,\n\u001b[0;32m    950\u001b[0m                  allow_gc=allow_gc):\n\u001b[1;32m--> 951\u001b[1;33m             \u001b[0mr\u001b[0m \u001b[1;33m=\u001b[0m \u001b[0mp\u001b[0m\u001b[1;33m(\u001b[0m\u001b[0mn\u001b[0m\u001b[1;33m,\u001b[0m \u001b[1;33m[\u001b[0m\u001b[0mx\u001b[0m\u001b[1;33m[\u001b[0m\u001b[1;36m0\u001b[0m\u001b[1;33m]\u001b[0m \u001b[1;32mfor\u001b[0m \u001b[0mx\u001b[0m \u001b[1;32min\u001b[0m \u001b[0mi\u001b[0m\u001b[1;33m]\u001b[0m\u001b[1;33m,\u001b[0m \u001b[0mo\u001b[0m\u001b[1;33m)\u001b[0m\u001b[1;33m\u001b[0m\u001b[0m\n\u001b[0m\u001b[0;32m    952\u001b[0m             \u001b[1;32mfor\u001b[0m \u001b[0mo\u001b[0m \u001b[1;32min\u001b[0m \u001b[0mnode\u001b[0m\u001b[1;33m.\u001b[0m\u001b[0moutputs\u001b[0m\u001b[1;33m:\u001b[0m\u001b[1;33m\u001b[0m\u001b[0m\n\u001b[0;32m    953\u001b[0m                 \u001b[0mcompute_map\u001b[0m\u001b[1;33m[\u001b[0m\u001b[0mo\u001b[0m\u001b[1;33m]\u001b[0m\u001b[1;33m[\u001b[0m\u001b[1;36m0\u001b[0m\u001b[1;33m]\u001b[0m \u001b[1;33m=\u001b[0m \u001b[0mTrue\u001b[0m\u001b[1;33m\u001b[0m\u001b[0m\n",
      "\u001b[1;32m/home/ubuntu/anaconda2/lib/python2.7/site-packages/theano/scan_module/scan_op.pyc\u001b[0m in \u001b[0;36m<lambda>\u001b[1;34m(node, args, outs)\u001b[0m\n\u001b[0;32m    938\u001b[0m                         \u001b[0margs\u001b[0m\u001b[1;33m,\u001b[0m\u001b[1;33m\u001b[0m\u001b[0m\n\u001b[0;32m    939\u001b[0m                         \u001b[0mouts\u001b[0m\u001b[1;33m,\u001b[0m\u001b[1;33m\u001b[0m\u001b[0m\n\u001b[1;32m--> 940\u001b[1;33m                         self, node)\n\u001b[0m\u001b[0;32m    941\u001b[0m         \u001b[1;32mexcept\u001b[0m \u001b[1;33m(\u001b[0m\u001b[0mImportError\u001b[0m\u001b[1;33m,\u001b[0m \u001b[0mtheano\u001b[0m\u001b[1;33m.\u001b[0m\u001b[0mgof\u001b[0m\u001b[1;33m.\u001b[0m\u001b[0mcmodule\u001b[0m\u001b[1;33m.\u001b[0m\u001b[0mMissingGXX\u001b[0m\u001b[1;33m)\u001b[0m\u001b[1;33m:\u001b[0m\u001b[1;33m\u001b[0m\u001b[0m\n\u001b[0;32m    942\u001b[0m             \u001b[0mp\u001b[0m \u001b[1;33m=\u001b[0m \u001b[0mself\u001b[0m\u001b[1;33m.\u001b[0m\u001b[0mexecute\u001b[0m\u001b[1;33m\u001b[0m\u001b[0m\n",
      "\u001b[1;31mKeyboardInterrupt\u001b[0m: "
     ]
    }
   ],
   "source": [
    "epochs = 5\n",
    "cost_mean = 0\n",
    "for epoch in xrange(epochs):\n",
    "    train_X, train_y = shuffle(train_X, train_y)  # Shuffle Samples !!\n",
    "    for i, (instance_x, instance_y) in enumerate(zip(train_X, train_y)):\n",
    "        train_cost = train(instance_x, instance_y)\n",
    "        cost_mean += train_cost\n",
    "        if i%1000 == 0:\n",
    "            print \"EPOCH:: %i, Iteration %i, Training Cost: %.3f\" % (epoch + 1, i, cost_mean / 1000)\n",
    "            cost_mean = 0"
   ]
  },
  {
   "cell_type": "markdown",
   "metadata": {
    "collapsed": true
   },
   "source": [
    "### 10. テスト"
   ]
  },
  {
   "cell_type": "markdown",
   "metadata": {},
   "source": [
    "idからwordへの辞書を作成"
   ]
  },
  {
   "cell_type": "code",
   "execution_count": 59,
   "metadata": {
    "collapsed": true
   },
   "outputs": [],
   "source": [
    "f_i2w = {value:key for key, value in f_w2i.items()}\n",
    "e_i2w = {value:key for key, value in e_w2i.items()}"
   ]
  },
  {
   "cell_type": "markdown",
   "metadata": {},
   "source": [
    "テスト"
   ]
  },
  {
   "cell_type": "code",
   "execution_count": 61,
   "metadata": {
    "collapsed": false
   },
   "outputs": [
    {
     "name": "stdout",
     "output_type": "stream",
     "text": [
      "Test Cost: 2.028\n",
      "元の文: <s> 入场费 是 多少 钱 ? </s>\n",
      "翻訳文: how much is it UNK ? ? </s>\n"
     ]
    }
   ],
   "source": [
    "num = 45\n",
    "instance_x, instance_y = test_X[num], test_y[num]\n",
    "test_cost, pred_y = test(instance_x, instance_y)\n",
    "print \"Test Cost: %.3f\" % test_cost\n",
    "print \"元の文: %s\" % ' '.join([f_i2w[com] for com in instance_x])\n",
    "print \"翻訳文: %s\" % ' '.join([e_i2w[com] for com in pred_y])"
   ]
  },
  {
   "cell_type": "code",
   "execution_count": null,
   "metadata": {
    "collapsed": true
   },
   "outputs": [],
   "source": []
  }
 ],
 "metadata": {
  "anaconda-cloud": {},
  "kernelspec": {
   "display_name": "Python 2",
   "language": "python",
   "name": "python2"
  },
  "language_info": {
   "codemirror_mode": {
    "name": "ipython",
    "version": 2
   },
   "file_extension": ".py",
   "mimetype": "text/x-python",
   "name": "python",
   "nbconvert_exporter": "python",
   "pygments_lexer": "ipython2",
   "version": "2.7.12"
  },
  "toc": {
   "toc_cell": false,
   "toc_number_sections": false,
   "toc_threshold": 6,
   "toc_window_display": false
  }
 },
 "nbformat": 4,
 "nbformat_minor": 0
}
