{
 "cells": [
  {
   "cell_type": "markdown",
   "metadata": {},
   "source": [
    "# 第6回講義 宿題"
   ]
  },
  {
   "cell_type": "markdown",
   "metadata": {
    "collapsed": true
   },
   "source": [
    "## 課題. Stacked Denoising Autoencoderで事前学習をした上で, MNISTを多層パーセプトロンで学習せよ"
   ]
  },
  {
   "cell_type": "markdown",
   "metadata": {},
   "source": [
    "### 注意"
   ]
  },
  {
   "cell_type": "markdown",
   "metadata": {},
   "source": [
    "- homework関数を完成させて提出してください\n",
    "    - 訓練データはtrain_X, train_y, テストデータはtest_Xで与えられます\n",
    "    - train_Xとtrain_yをtrain_X, train_yとvalid_X, valid_yに分けるなどしてモデルを学習させてください\n",
    "    - test_Xに対して予想ラベルpred_yを作り, homework関数の戻り値としてください\\\n",
    "- pred_yのtest_yに対する精度(F値)で評価します\n",
    "- 全体の実行時間がiLect上で60分を超えないようにしてください\n",
    "- homework関数の外には何も書かないでください"
   ]
  },
  {
   "cell_type": "markdown",
   "metadata": {},
   "source": [
    "- CNNは使わないでください"
   ]
  },
  {
   "cell_type": "markdown",
   "metadata": {},
   "source": [
    "次のような内容のコードが**事前**に実行されます"
   ]
  },
  {
   "cell_type": "markdown",
   "metadata": {},
   "source": [
    "\n",
    "```python\n",
    "from __future__ import division\n",
    "from collections import OrderedDict\n",
    "from sklearn.utils import shuffle\n",
    "from sklearn.metrics import f1_score\n",
    "from sklearn.datasets import fetch_mldata\n",
    "from sklearn.cross_validation import train_test_split\n",
    "\n",
    "import numpy as np\n",
    "import theano\n",
    "import theano.tensor as T\n",
    "\n",
    "mnist = fetch_mldata('MNIST original')\n",
    "mnist_X, mnist_y = shuffle(mnist.data.astype('float32'), mnist.target.astype('int32'))\n",
    "\n",
    "mnist_X = mnist_X / 255.0\n",
    "\n",
    "train_X, test_X, train_y, test_y = train_test_split(mnist_X, mnist_y, test_size=0.2, random_state=??) # random_stateはこちらで与えます\n",
    "```"
   ]
  },
  {
   "cell_type": "markdown",
   "metadata": {},
   "source": [
    "次のセルを完成させて提出してください\n",
    "- **上記のコード以外で必要なもの**は全て書いてください"
   ]
  },
  {
   "cell_type": "code",
   "execution_count": 1,
   "metadata": {
    "collapsed": false,
    "deletable": false,
    "ilect": {
     "is_homework": true
    }
   },
   "outputs": [],
   "source": [
    "def homework(train_X, test_X, train_y):\n",
    "    train_y = np.eye(10)[train_y].astype('int32')\n",
    "    from theano.tensor.shared_randomstreams import RandomStreams\n",
    "    from collections import OrderedDict\n",
    "    \n",
    "    rng = np.random.RandomState(1234)\n",
    "    theano_rng = RandomStreams(rng.randint(1234))\n",
    "    \n",
    "    def sgd(params, g_params, eps=np.float32(1.0)):\n",
    "        updates = OrderedDict()\n",
    "        for param, g_param in zip(params, g_params):\n",
    "            updates[param] = param - eps*g_param\n",
    "        return updates\n",
    "    \n",
    "    class Autoencoder:\n",
    "        #- Constructor\n",
    "        def __init__(self, visible_dim, hidden_dim, W, function):\n",
    "            self.visible_dim = visible_dim\n",
    "            self.hidden_dim  = hidden_dim\n",
    "            self.function    = function\n",
    "            self.W           = W\n",
    "            self.a = theano.shared(np.zeros(visible_dim).astype('float32'), name='a')\n",
    "            self.b = theano.shared(np.zeros(hidden_dim).astype('float32'), name='b')\n",
    "            self.params = [self.W, self.a, self.b]\n",
    "        #- Encoder\n",
    "        def encode(self, x):\n",
    "            u = T.dot(x, self.W) + self.b\n",
    "            y = self.function(u)\n",
    "            return y\n",
    "        #- Decoder\n",
    "        def decode(self, x):\n",
    "            u = T.dot(x, self.W.T) + self.a\n",
    "            y = self.function(u)\n",
    "            return y\n",
    "        #- Forward Propagation\n",
    "        def f_prop(self, x):\n",
    "            y = self.encode(x)\n",
    "            reconst_x = self.decode(y)\n",
    "            return reconst_x\n",
    "        #- Reconstruction Error\n",
    "        def reconst_error(self, x, noise):\n",
    "            tilde_x = x * noise\n",
    "            reconst_x = self.f_prop(tilde_x)\n",
    "            error = T.mean(T.sum(T.nnet.binary_crossentropy(reconst_x, x), axis=1))\n",
    "            return error, reconst_x\n",
    "\n",
    "    class Layer:\n",
    "        #- Constructor\n",
    "        def __init__(self, in_dim, out_dim, function):\n",
    "            self.in_dim = in_dim\n",
    "            self.out_dim = out_dim\n",
    "            self.function = function\n",
    "            self.W = theano.shared(rng.uniform(low=-0.08, high=0.08, size=(in_dim, out_dim)).astype('float32'), name='W')\n",
    "            self.b = theano.shared(np.zeros(out_dim).astype('float32'), name='b')\n",
    "            self.params = [self.W, self.b]\n",
    "            \n",
    "            self.set_pretraining()\n",
    "\n",
    "        #- Forward Propagation\n",
    "        def f_prop(self, x):\n",
    "            self.u = T.dot(x, self.W) + self.b\n",
    "            self.z = self.function(self.u)\n",
    "            return self.z\n",
    "        #- Set Pretraining\n",
    "        def set_pretraining(self):\n",
    "            ae = Autoencoder(self.in_dim, self.out_dim, self.W, self.function)\n",
    "\n",
    "            x = T.fmatrix(name='x')\n",
    "            noise = T.fmatrix(name='noise')\n",
    "\n",
    "            cost, reconst_x = ae.reconst_error(x, noise)\n",
    "            params = ae.params\n",
    "            g_params = T.grad(cost=cost, wrt=params)\n",
    "            updates = sgd(params, g_params)\n",
    "\n",
    "            self.pretraining = theano.function(inputs=[x, noise], outputs=[cost, reconst_x], updates=updates, allow_input_downcast=True, name='pretraining')\n",
    "            hidden = ae.encode(x)\n",
    "            self.encode_function = theano.function(inputs=[x], outputs=hidden, allow_input_downcast=True, name='encode_function')\n",
    "\n",
    "    layers = [Layer(train_X.shape[1], 500,T.nnet.sigmoid),\n",
    "              Layer(500, 400, T.nnet.sigmoid),\n",
    "              Layer(400,10,T.nnet.softmax)]\n",
    " \n",
    "    X = train_X\n",
    "    for l, layer in enumerate(layers[:-1]):\n",
    "        corruption_level = np.float32(0.3)\n",
    "        batch_size = 100\n",
    "        n_batches = X.shape[0] // batch_size\n",
    "\n",
    "        for epoch in xrange(500):\n",
    "            X = shuffle(X)\n",
    "            err_all = []\n",
    "            for i in xrange(0, n_batches):\n",
    "                start = i*batch_size\n",
    "                end = start + batch_size\n",
    "\n",
    "                noise = rng.binomial(size=X[start:end].shape, n=1, p=1-corruption_level)\n",
    "                err, reconst_x = layer.pretraining(X[start:end], noise)\n",
    "                err_all.append(err)\n",
    "        X = layer.encode_function(X)\n",
    "\n",
    "    x = T.fmatrix(name='x')\n",
    "    t = T.imatrix(name='t')\n",
    "\n",
    "    params = []\n",
    "    for i, layer in enumerate(layers):\n",
    "        params += layer.params\n",
    "        if i == 0:\n",
    "            layer_out = layer.f_prop(x)\n",
    "        else:\n",
    "            layer_out = layer.f_prop(layer_out)\n",
    "\n",
    "    y = layers[-1].z\n",
    "    cost = T.mean(T.nnet.categorical_crossentropy(y, t))\n",
    "\n",
    "    g_params = T.grad(cost=cost, wrt=params)\n",
    "    updates = sgd(params, g_params)\n",
    "\n",
    "    train = theano.function(inputs=[x, t], outputs=cost, updates=updates, allow_input_downcast=True, name='train')\n",
    "    valid = theano.function(inputs=[x, t], outputs=[cost, T.argmax(y, axis=1)], allow_input_downcast=True, name='valid')\n",
    "    test  = theano.function([x], T.argmax(y, axis=1), name='test')\n",
    "    \n",
    "    batch_size = 100\n",
    "    n_batches = train_X.shape[0]//batch_size\n",
    "    \n",
    "    for epoch in xrange(1000):\n",
    "        train_X, train_y = shuffle(train_X, train_y)\n",
    "        for i in xrange(n_batches):\n",
    "            start = i*batch_size\n",
    "            end = start + batch_size\n",
    "            train(train_X[start:end], train_y[start:end])\n",
    "    pred_y = test(test_X)\n",
    "    return pred_y"
   ]
  },
  {
   "cell_type": "code",
   "execution_count": null,
   "metadata": {
    "collapsed": false,
    "deletable": false,
    "ilect": {
     "course_id": 1,
     "course_rank": 6,
     "is_evaluation": true
    }
   },
   "outputs": [],
   "source": [
    "from __future__ import division\n",
    "from collections import OrderedDict\n",
    "from sklearn.utils import shuffle\n",
    "from sklearn.metrics import f1_score\n",
    "from sklearn.datasets import fetch_mldata\n",
    "from sklearn.cross_validation import train_test_split\n",
    "\n",
    "import numpy as np\n",
    "import theano\n",
    "import theano.tensor as T\n",
    "\n",
    "def load_mnist():\n",
    "    mnist = fetch_mldata('MNIST original')\n",
    "    mnist_X, mnist_y = shuffle(mnist.data.astype('float32'), mnist.target.astype('int32'))\n",
    "\n",
    "    mnist_X = mnist_X / 255.0\n",
    "\n",
    "    train_X, test_X, train_y, test_y = train_test_split(mnist_X, mnist_y, test_size=0.2, random_state=42)\n",
    "\n",
    "    return (train_X, test_X, train_y, test_y)\n",
    "\n",
    "def check_homework():\n",
    "    train_X, test_X, train_y, test_y = load_mnist()\n",
    "    pred_y = homework(train_X, test_X, train_y)\n",
    "    return f1_score(test_y, pred_y, average='macro')\n",
    "\n",
    "if 'homework' in globals():\n",
    "    result = check_homework()\n",
    "\n",
    "    print \"No Error Occured!\""
   ]
  }
 ],
 "metadata": {
  "celltoolbar": "Edit Metadata",
  "kernelspec": {
   "display_name": "Python 2",
   "language": "python",
   "name": "python2"
  },
  "language_info": {
   "codemirror_mode": {
    "name": "ipython",
    "version": 2
   },
   "file_extension": ".py",
   "mimetype": "text/x-python",
   "name": "python",
   "nbconvert_exporter": "python",
   "pygments_lexer": "ipython2",
   "version": "2.7.12"
  }
 },
 "nbformat": 4,
 "nbformat_minor": 0
}
