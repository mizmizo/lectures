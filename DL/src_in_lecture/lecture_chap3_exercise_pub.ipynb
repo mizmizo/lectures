{
 "cells": [
  {
   "cell_type": "markdown",
   "metadata": {},
   "source": [
    "2016年度先端人工知能論Ⅰ（東京大学大学院講義）\n",
    "======\n",
    "Machine Learning 2 - Numpy, Scipy, Scikit-Learn\n",
    "======\n",
    "Kenji Ogawa, Matsuo-Lab, TMI, Univ.-Tokyo, 2016\n"
   ]
  },
  {
   "cell_type": "markdown",
   "metadata": {},
   "source": [
    "# 今回の講座の目的\n",
    "\n",
    "numpy, matplotlib, scikit-learn の基本的な使い方を理解する\n",
    "\n",
    "- 既に知っているという人は宿題を進めて下さい\n",
    "\n",
    "    宿題が終わったという人はこちらに挑戦してみて下さい\n",
    "\n",
    "    - http://www.labri.fr/perso/nrougier/teaching/numpy.100/\n",
    "\n",
    "\n",
    "- ipython notebook の使い方については以下を参照の事\n",
    "    * http://cs231n.github.io/ipython-tutorial/\n",
    "    * http://ipython.readthedocs.org/en/stable/\n",
    "\n",
    "\n",
    "-  python については以下を参照の事\n",
    "    * http://cs231n.github.io/python-numpy-tutorial/\n",
    "    * https://wiki.python.org/moin/SimplePrograms\n",
    "    * https://docs.python.org/2/tutorial/\n",
    "\n",
    "\n",
    "\n",
    "# 目次\n",
    "\n",
    "## なぜ numpy の使い方を\"覚える\"必要があるのか\n",
    "\n",
    "## numpy の使い方いろいろ \n",
    "\n",
    "#### 行列、ベクトルの演算\n",
    "\n",
    "* 掛け算\n",
    "\n",
    "* スライス\n",
    "\n",
    "* sum\n",
    "\n",
    "* ones, zeros, reshape\n",
    "\n",
    "* Broad cast\n",
    "\n",
    "* numpy.newaxis\n",
    "\n",
    "* Advanced indexing\n",
    "\n",
    "* 条件式\n",
    "\n",
    "#### 乱数\n",
    "\n",
    "## Scipy, Scikit-learn\n",
    "* train_test_split\n",
    "* MNIST データ\n",
    "* train, valid, test の使い方デモ\n",
    "* 画像処理\n",
    "\n",
    "### matplotlib.pyplot\n",
    "* 普通のプロット plt.plot\n",
    "* 二次元プロット　plt.imshow\n",
    "* 複数のプロットの表示 plt.fig\n",
    "\n"
   ]
  },
  {
   "cell_type": "markdown",
   "metadata": {},
   "source": [
    "-----\n",
    "# なぜ numpy の使い方を\"覚える\"必要があるのか\n",
    "## この授業（先端人工知能論Ⅰ）の主旨\n",
    "- ### 実装を通して、Deeplearningを理解する\n",
    "\n",
    "## 線形代数等の実装の詳細はこの授業の重要な部分ではない -> numpy にまかせる\n",
    "\n",
    "- ### 何が使えるのかを知っておく\n",
    "- ### ある問題に対して、適切な関数の組み合わせを選べるようにする"
   ]
  },
  {
   "cell_type": "markdown",
   "metadata": {},
   "source": [
    "-----\n",
    "\n",
    "## \"Don't Reinvent The Wheel,\n",
    "\n",
    "## (Unless You Plan on Learning More About Wheels)\"\n",
    "\n",
    "http://blog.codinghorror.com/dont-reinvent-the-wheel-unless-you-plan-on-learning-more-about-wheels/"
   ]
  },
  {
   "cell_type": "markdown",
   "metadata": {},
   "source": [
    "-----\n",
    "## 自分で実装しようとすると あまりいい事はないという例\n",
    "\\begin{equation}\n",
    "\\sum_{n=1}^N \\frac{1}{n^2}\n",
    "\\end{equation}\n",
    "を数値計算で求める方法について、\n",
    "\n",
    "自分でpythonで実装したものと、 numpyを利用したものを比較します。"
   ]
  },
  {
   "cell_type": "code",
   "execution_count": 1,
   "metadata": {
    "collapsed": false
   },
   "outputs": [],
   "source": [
    "# Hand Made Sum Function (This is NOT Recommended in actual programing)\n",
    "\n",
    "# naive implementation\n",
    "def sum_handmade1(xs):\n",
    "    sum_ = 0.0\n",
    "    for x in xs:\n",
    "        sum_ += x\n",
    "    return sum_\n",
    "\n",
    "\n",
    "# complicated implementation (explained later)\n",
    "def sum_handmade2(xs):\n",
    "    src = xs\n",
    "    while(len(src) > 1):\n",
    "        sums_neighbor = []\n",
    "        for i in xrange(len(src) // 2):\n",
    "            sums_neighbor.append(src[2 * i] + src[2 * i + 1])\n",
    "        if len(src) % 2 == 1:\n",
    "            sums_neighbor.append(src[-1])\n",
    "        src = sums_neighbor\n",
    "    return sums_neighbor[0]"
   ]
  },
  {
   "cell_type": "code",
   "execution_count": 3,
   "metadata": {
    "collapsed": false
   },
   "outputs": [],
   "source": [
    "from __future__ import division\n",
    "import numpy as np\n",
    "N = 100000000\n",
    "xs = 1 / (np.arange(1, N))**2"
   ]
  },
  {
   "cell_type": "markdown",
   "metadata": {},
   "source": [
    "処理速度の違いが実感できるように 一つ一つ、コマンドを流していきます"
   ]
  },
  {
   "cell_type": "code",
   "execution_count": 4,
   "metadata": {
    "collapsed": false
   },
   "outputs": [
    {
     "name": "stdout",
     "output_type": "stream",
     "text": [
      "CPU times: user 107 ms, sys: 0 ns, total: 107 ms\n",
      "Wall time: 107 ms\n"
     ]
    }
   ],
   "source": [
    "# use numpy sum\n",
    "%time a = xs.sum()"
   ]
  },
  {
   "cell_type": "code",
   "execution_count": 5,
   "metadata": {
    "collapsed": false
   },
   "outputs": [
    {
     "name": "stdout",
     "output_type": "stream",
     "text": [
      "CPU times: user 12.2 s, sys: 0 ns, total: 12.2 s\n",
      "Wall time: 12.2 s\n"
     ]
    }
   ],
   "source": [
    "# use handmade function\n",
    "# it takes 10 second on mac book air\n",
    "%time b = sum_handmade1(xs)"
   ]
  },
  {
   "cell_type": "code",
   "execution_count": 6,
   "metadata": {
    "collapsed": false
   },
   "outputs": [
    {
     "name": "stdout",
     "output_type": "stream",
     "text": [
      "CPU times: user 30.8 s, sys: 1.16 s, total: 32 s\n",
      "Wall time: 32 s\n"
     ]
    }
   ],
   "source": [
    "# 40 second on mac book air\n",
    "%time c = sum_handmade2(xs)"
   ]
  },
  {
   "cell_type": "markdown",
   "metadata": {},
   "source": [
    "-----\n",
    "... for文が遅い事が確認できたと思います。 ちなみにreduce文を使っても遅いです。**Excercise\n",
    "\n",
    "計算結果を見てみましょう。"
   ]
  },
  {
   "cell_type": "code",
   "execution_count": null,
   "metadata": {
    "collapsed": false
   },
   "outputs": [],
   "source": [
    "print \"xs.sum()               \", '{0:.15f}'.format(a)\n",
    "print \"sum_handmade1(xs)      \", '{0:.15f}'.format(b)\n",
    "print \"sum_handmade2(xs)      \", '{0:.15f}'.format(c)"
   ]
  },
  {
   "cell_type": "markdown",
   "metadata": {},
   "source": [
    "------\n",
    "```\n",
    "xs.sum()                1.644934056848220\n",
    "sum_handmade1(xs)       1.644934057834575   # different \n",
    "sum_handmade2(xs)       1.644934056848226\n",
    "```\n",
    "\n",
    "正確な値は　1.6449340568482264...　です **\n",
    "\n",
    "上で最も値がずれているのは sum_handmade1(xs)です。\n",
    "\n",
    "このずれの原因は丸め誤差にあります。\n",
    "sum_handmade2という面倒な実装は丸め誤差を抑えるためです。\n",
    "\n",
    "\n",
    "** https://www.wolframalpha.com/ \"sum 1/n^2, n=1 to 100000000\"\n"
   ]
  },
  {
   "cell_type": "markdown",
   "metadata": {},
   "source": [
    "-----\n",
    "### という事で numpyの仕様に添った書き方をしないと実用上でも\n",
    "- ### 遅い\n",
    "- ### 細かい事を気にしなくてはいけない\n",
    "\n",
    "### というデメリットがある事がわかりました\n",
    "\n",
    "## <font color='red'> numpyの書き方を理解しましょう </font> ~ ここから本題に入ります\n"
   ]
  },
  {
   "cell_type": "markdown",
   "metadata": {},
   "source": [
    "-----\n",
    "# numpyの使い方いろいろ"
   ]
  },
  {
   "cell_type": "markdown",
   "metadata": {},
   "source": [
    "### numpyには様々な関数が入っています。モジュールやクラスのメンバーは dir で確認できます。"
   ]
  },
  {
   "cell_type": "code",
   "execution_count": 7,
   "metadata": {
    "collapsed": false
   },
   "outputs": [
    {
     "data": {
      "text/plain": [
       "['ALLOW_THREADS',\n",
       " 'BUFSIZE',\n",
       " 'CLIP',\n",
       " 'ComplexWarning',\n",
       " 'DataSource',\n",
       " 'ERR_CALL',\n",
       " 'ERR_DEFAULT',\n",
       " 'ERR_IGNORE',\n",
       " 'ERR_LOG',\n",
       " 'ERR_PRINT',\n",
       " 'ERR_RAISE',\n",
       " 'ERR_WARN',\n",
       " 'FLOATING_POINT_SUPPORT',\n",
       " 'FPE_DIVIDEBYZERO',\n",
       " 'FPE_INVALID',\n",
       " 'FPE_OVERFLOW',\n",
       " 'FPE_UNDERFLOW',\n",
       " 'False_',\n",
       " 'Inf',\n",
       " 'Infinity',\n",
       " 'MAXDIMS',\n",
       " 'MachAr',\n",
       " 'ModuleDeprecationWarning',\n",
       " 'NAN',\n",
       " 'NINF',\n",
       " 'NZERO',\n",
       " 'NaN',\n",
       " 'PINF',\n",
       " 'PZERO',\n",
       " 'PackageLoader',\n",
       " 'RAISE',\n",
       " 'RankWarning',\n",
       " 'SHIFT_DIVIDEBYZERO',\n",
       " 'SHIFT_INVALID',\n",
       " 'SHIFT_OVERFLOW',\n",
       " 'SHIFT_UNDERFLOW',\n",
       " 'ScalarType',\n",
       " 'Tester',\n",
       " 'True_',\n",
       " 'UFUNC_BUFSIZE_DEFAULT',\n",
       " 'UFUNC_PYVALS_NAME',\n",
       " 'VisibleDeprecationWarning',\n",
       " 'WRAP',\n",
       " '_NoValue',\n",
       " '__NUMPY_SETUP__',\n",
       " '__all__',\n",
       " '__builtins__',\n",
       " '__config__',\n",
       " '__doc__',\n",
       " '__file__',\n",
       " '__git_revision__',\n",
       " '__mkl_version__',\n",
       " '__name__',\n",
       " '__package__',\n",
       " '__path__',\n",
       " '__version__',\n",
       " '_import_tools',\n",
       " '_mat',\n",
       " 'abs',\n",
       " 'absolute',\n",
       " 'absolute_import',\n",
       " 'add',\n",
       " 'add_docstring',\n",
       " 'add_newdoc',\n",
       " 'add_newdoc_ufunc',\n",
       " 'add_newdocs',\n",
       " 'alen',\n",
       " 'all',\n",
       " 'allclose',\n",
       " 'alltrue',\n",
       " 'alterdot',\n",
       " 'amax',\n",
       " 'amin',\n",
       " 'angle',\n",
       " 'any',\n",
       " 'append',\n",
       " 'apply_along_axis',\n",
       " 'apply_over_axes',\n",
       " 'arange',\n",
       " 'arccos',\n",
       " 'arccosh',\n",
       " 'arcsin',\n",
       " 'arcsinh',\n",
       " 'arctan',\n",
       " 'arctan2',\n",
       " 'arctanh',\n",
       " 'argmax',\n",
       " 'argmin',\n",
       " 'argpartition',\n",
       " 'argsort',\n",
       " 'argwhere',\n",
       " 'around',\n",
       " 'array',\n",
       " 'array2string',\n",
       " 'array_equal',\n",
       " 'array_equiv',\n",
       " 'array_repr',\n",
       " 'array_split',\n",
       " 'array_str',\n",
       " 'asanyarray',\n",
       " 'asarray',\n",
       " 'asarray_chkfinite',\n",
       " 'ascontiguousarray',\n",
       " 'asfarray',\n",
       " 'asfortranarray',\n",
       " 'asmatrix',\n",
       " 'asscalar',\n",
       " 'atleast_1d',\n",
       " 'atleast_2d',\n",
       " 'atleast_3d',\n",
       " 'average',\n",
       " 'bartlett',\n",
       " 'base_repr',\n",
       " 'bench',\n",
       " 'binary_repr',\n",
       " 'bincount',\n",
       " 'bitwise_and',\n",
       " 'bitwise_not',\n",
       " 'bitwise_or',\n",
       " 'bitwise_xor',\n",
       " 'blackman',\n",
       " 'bmat',\n",
       " 'bool',\n",
       " 'bool8',\n",
       " 'bool_',\n",
       " 'broadcast',\n",
       " 'broadcast_arrays',\n",
       " 'broadcast_to',\n",
       " 'busday_count',\n",
       " 'busday_offset',\n",
       " 'busdaycalendar',\n",
       " 'byte',\n",
       " 'byte_bounds',\n",
       " 'bytes_',\n",
       " 'c_',\n",
       " 'can_cast',\n",
       " 'cast',\n",
       " 'cbrt',\n",
       " 'cdouble',\n",
       " 'ceil',\n",
       " 'cfloat',\n",
       " 'char',\n",
       " 'character',\n",
       " 'chararray',\n",
       " 'choose',\n",
       " 'clip',\n",
       " 'clongdouble',\n",
       " 'clongfloat',\n",
       " 'column_stack',\n",
       " 'common_type',\n",
       " 'compare_chararrays',\n",
       " 'compat',\n",
       " 'complex',\n",
       " 'complex128',\n",
       " 'complex256',\n",
       " 'complex64',\n",
       " 'complex_',\n",
       " 'complexfloating',\n",
       " 'compress',\n",
       " 'concatenate',\n",
       " 'conj',\n",
       " 'conjugate',\n",
       " 'convolve',\n",
       " 'copy',\n",
       " 'copysign',\n",
       " 'copyto',\n",
       " 'core',\n",
       " 'corrcoef',\n",
       " 'correlate',\n",
       " 'cos',\n",
       " 'cosh',\n",
       " 'count_nonzero',\n",
       " 'cov',\n",
       " 'cross',\n",
       " 'csingle',\n",
       " 'ctypeslib',\n",
       " 'cumprod',\n",
       " 'cumproduct',\n",
       " 'cumsum',\n",
       " 'datetime64',\n",
       " 'datetime_as_string',\n",
       " 'datetime_data',\n",
       " 'deg2rad',\n",
       " 'degrees',\n",
       " 'delete',\n",
       " 'deprecate',\n",
       " 'deprecate_with_doc',\n",
       " 'diag',\n",
       " 'diag_indices',\n",
       " 'diag_indices_from',\n",
       " 'diagflat',\n",
       " 'diagonal',\n",
       " 'diff',\n",
       " 'digitize',\n",
       " 'disp',\n",
       " 'divide',\n",
       " 'division',\n",
       " 'dot',\n",
       " 'double',\n",
       " 'dsplit',\n",
       " 'dstack',\n",
       " 'dtype',\n",
       " 'e',\n",
       " 'ediff1d',\n",
       " 'einsum',\n",
       " 'emath',\n",
       " 'empty',\n",
       " 'empty_like',\n",
       " 'equal',\n",
       " 'errstate',\n",
       " 'euler_gamma',\n",
       " 'exp',\n",
       " 'exp2',\n",
       " 'expand_dims',\n",
       " 'expm1',\n",
       " 'extract',\n",
       " 'eye',\n",
       " 'fabs',\n",
       " 'fastCopyAndTranspose',\n",
       " 'fft',\n",
       " 'fill_diagonal',\n",
       " 'find_common_type',\n",
       " 'finfo',\n",
       " 'fix',\n",
       " 'flatiter',\n",
       " 'flatnonzero',\n",
       " 'flexible',\n",
       " 'fliplr',\n",
       " 'flipud',\n",
       " 'float',\n",
       " 'float128',\n",
       " 'float16',\n",
       " 'float32',\n",
       " 'float64',\n",
       " 'float_',\n",
       " 'floating',\n",
       " 'floor',\n",
       " 'floor_divide',\n",
       " 'fmax',\n",
       " 'fmin',\n",
       " 'fmod',\n",
       " 'format_parser',\n",
       " 'frexp',\n",
       " 'frombuffer',\n",
       " 'fromfile',\n",
       " 'fromfunction',\n",
       " 'fromiter',\n",
       " 'frompyfunc',\n",
       " 'fromregex',\n",
       " 'fromstring',\n",
       " 'full',\n",
       " 'full_like',\n",
       " 'fv',\n",
       " 'generic',\n",
       " 'genfromtxt',\n",
       " 'get_array_wrap',\n",
       " 'get_include',\n",
       " 'get_printoptions',\n",
       " 'getbuffer',\n",
       " 'getbufsize',\n",
       " 'geterr',\n",
       " 'geterrcall',\n",
       " 'geterrobj',\n",
       " 'gradient',\n",
       " 'greater',\n",
       " 'greater_equal',\n",
       " 'half',\n",
       " 'hamming',\n",
       " 'hanning',\n",
       " 'histogram',\n",
       " 'histogram2d',\n",
       " 'histogramdd',\n",
       " 'hsplit',\n",
       " 'hstack',\n",
       " 'hypot',\n",
       " 'i0',\n",
       " 'identity',\n",
       " 'iinfo',\n",
       " 'imag',\n",
       " 'in1d',\n",
       " 'index_exp',\n",
       " 'indices',\n",
       " 'inexact',\n",
       " 'inf',\n",
       " 'info',\n",
       " 'infty',\n",
       " 'inner',\n",
       " 'insert',\n",
       " 'int',\n",
       " 'int0',\n",
       " 'int16',\n",
       " 'int32',\n",
       " 'int64',\n",
       " 'int8',\n",
       " 'int_',\n",
       " 'int_asbuffer',\n",
       " 'intc',\n",
       " 'integer',\n",
       " 'interp',\n",
       " 'intersect1d',\n",
       " 'intp',\n",
       " 'invert',\n",
       " 'ipmt',\n",
       " 'irr',\n",
       " 'is_busday',\n",
       " 'isclose',\n",
       " 'iscomplex',\n",
       " 'iscomplexobj',\n",
       " 'isfinite',\n",
       " 'isfortran',\n",
       " 'isinf',\n",
       " 'isnan',\n",
       " 'isneginf',\n",
       " 'isposinf',\n",
       " 'isreal',\n",
       " 'isrealobj',\n",
       " 'isscalar',\n",
       " 'issctype',\n",
       " 'issubclass_',\n",
       " 'issubdtype',\n",
       " 'issubsctype',\n",
       " 'iterable',\n",
       " 'ix_',\n",
       " 'kaiser',\n",
       " 'kron',\n",
       " 'ldexp',\n",
       " 'left_shift',\n",
       " 'less',\n",
       " 'less_equal',\n",
       " 'lexsort',\n",
       " 'lib',\n",
       " 'linalg',\n",
       " 'linspace',\n",
       " 'little_endian',\n",
       " 'load',\n",
       " 'loads',\n",
       " 'loadtxt',\n",
       " 'log',\n",
       " 'log10',\n",
       " 'log1p',\n",
       " 'log2',\n",
       " 'logaddexp',\n",
       " 'logaddexp2',\n",
       " 'logical_and',\n",
       " 'logical_not',\n",
       " 'logical_or',\n",
       " 'logical_xor',\n",
       " 'logspace',\n",
       " 'long',\n",
       " 'longcomplex',\n",
       " 'longdouble',\n",
       " 'longfloat',\n",
       " 'longlong',\n",
       " 'lookfor',\n",
       " 'ma',\n",
       " 'mafromtxt',\n",
       " 'mask_indices',\n",
       " 'mat',\n",
       " 'math',\n",
       " 'matmul',\n",
       " 'matrix',\n",
       " 'matrixlib',\n",
       " 'max',\n",
       " 'maximum',\n",
       " 'maximum_sctype',\n",
       " 'may_share_memory',\n",
       " 'mean',\n",
       " 'median',\n",
       " 'memmap',\n",
       " 'meshgrid',\n",
       " 'mgrid',\n",
       " 'min',\n",
       " 'min_scalar_type',\n",
       " 'minimum',\n",
       " 'mintypecode',\n",
       " 'mirr',\n",
       " 'mod',\n",
       " 'modf',\n",
       " 'msort',\n",
       " 'multiply',\n",
       " 'nan',\n",
       " 'nan_to_num',\n",
       " 'nanargmax',\n",
       " 'nanargmin',\n",
       " 'nanmax',\n",
       " 'nanmean',\n",
       " 'nanmedian',\n",
       " 'nanmin',\n",
       " 'nanpercentile',\n",
       " 'nanprod',\n",
       " 'nanstd',\n",
       " 'nansum',\n",
       " 'nanvar',\n",
       " 'nbytes',\n",
       " 'ndarray',\n",
       " 'ndenumerate',\n",
       " 'ndfromtxt',\n",
       " 'ndim',\n",
       " 'ndindex',\n",
       " 'nditer',\n",
       " 'negative',\n",
       " 'nested_iters',\n",
       " 'newaxis',\n",
       " 'newbuffer',\n",
       " 'nextafter',\n",
       " 'nonzero',\n",
       " 'not_equal',\n",
       " 'nper',\n",
       " 'npv',\n",
       " 'numarray',\n",
       " 'number',\n",
       " 'obj2sctype',\n",
       " 'object',\n",
       " 'object0',\n",
       " 'object_',\n",
       " 'ogrid',\n",
       " 'oldnumeric',\n",
       " 'ones',\n",
       " 'ones_like',\n",
       " 'outer',\n",
       " 'packbits',\n",
       " 'pad',\n",
       " 'partition',\n",
       " 'percentile',\n",
       " 'pi',\n",
       " 'piecewise',\n",
       " 'pkgload',\n",
       " 'place',\n",
       " 'pmt',\n",
       " 'poly',\n",
       " 'poly1d',\n",
       " 'polyadd',\n",
       " 'polyder',\n",
       " 'polydiv',\n",
       " 'polyfit',\n",
       " 'polyint',\n",
       " 'polymul',\n",
       " 'polynomial',\n",
       " 'polysub',\n",
       " 'polyval',\n",
       " 'power',\n",
       " 'ppmt',\n",
       " 'print_function',\n",
       " 'prod',\n",
       " 'product',\n",
       " 'promote_types',\n",
       " 'ptp',\n",
       " 'put',\n",
       " 'putmask',\n",
       " 'pv',\n",
       " 'r_',\n",
       " 'rad2deg',\n",
       " 'radians',\n",
       " 'random',\n",
       " 'rank',\n",
       " 'rate',\n",
       " 'ravel',\n",
       " 'ravel_multi_index',\n",
       " 'real',\n",
       " 'real_if_close',\n",
       " 'rec',\n",
       " 'recarray',\n",
       " 'recfromcsv',\n",
       " 'recfromtxt',\n",
       " 'reciprocal',\n",
       " 'record',\n",
       " 'remainder',\n",
       " 'repeat',\n",
       " 'require',\n",
       " 'reshape',\n",
       " 'resize',\n",
       " 'restoredot',\n",
       " 'result_type',\n",
       " 'right_shift',\n",
       " 'rint',\n",
       " 'roll',\n",
       " 'rollaxis',\n",
       " 'roots',\n",
       " 'rot90',\n",
       " 'round',\n",
       " 'round_',\n",
       " 'row_stack',\n",
       " 's_',\n",
       " 'safe_eval',\n",
       " 'save',\n",
       " 'savetxt',\n",
       " 'savez',\n",
       " 'savez_compressed',\n",
       " 'sctype2char',\n",
       " 'sctypeDict',\n",
       " 'sctypeNA',\n",
       " 'sctypes',\n",
       " 'searchsorted',\n",
       " 'select',\n",
       " 'set_numeric_ops',\n",
       " 'set_printoptions',\n",
       " 'set_string_function',\n",
       " 'setbufsize',\n",
       " 'setdiff1d',\n",
       " 'seterr',\n",
       " 'seterrcall',\n",
       " 'seterrobj',\n",
       " 'setxor1d',\n",
       " 'shape',\n",
       " 'short',\n",
       " 'show_config',\n",
       " 'sign',\n",
       " 'signbit',\n",
       " 'signedinteger',\n",
       " 'sin',\n",
       " 'sinc',\n",
       " 'single',\n",
       " 'singlecomplex',\n",
       " 'sinh',\n",
       " 'size',\n",
       " 'sometrue',\n",
       " 'sort',\n",
       " 'sort_complex',\n",
       " 'source',\n",
       " 'spacing',\n",
       " 'split',\n",
       " 'sqrt',\n",
       " 'square',\n",
       " 'squeeze',\n",
       " 'stack',\n",
       " 'std',\n",
       " 'str',\n",
       " 'str_',\n",
       " 'string0',\n",
       " 'string_',\n",
       " 'subtract',\n",
       " 'sum',\n",
       " 'swapaxes',\n",
       " 'take',\n",
       " 'tan',\n",
       " 'tanh',\n",
       " 'tensordot',\n",
       " 'test',\n",
       " 'testing',\n",
       " 'tile',\n",
       " 'timedelta64',\n",
       " 'trace',\n",
       " 'transpose',\n",
       " 'trapz',\n",
       " 'tri',\n",
       " 'tril',\n",
       " 'tril_indices',\n",
       " 'tril_indices_from',\n",
       " 'trim_zeros',\n",
       " 'triu',\n",
       " 'triu_indices',\n",
       " 'triu_indices_from',\n",
       " 'true_divide',\n",
       " 'trunc',\n",
       " 'typeDict',\n",
       " 'typeNA',\n",
       " 'typecodes',\n",
       " 'typename',\n",
       " 'ubyte',\n",
       " 'ufunc',\n",
       " 'uint',\n",
       " 'uint0',\n",
       " 'uint16',\n",
       " 'uint32',\n",
       " 'uint64',\n",
       " 'uint8',\n",
       " 'uintc',\n",
       " 'uintp',\n",
       " 'ulonglong',\n",
       " 'unicode',\n",
       " 'unicode0',\n",
       " 'unicode_',\n",
       " 'union1d',\n",
       " 'unique',\n",
       " 'unpackbits',\n",
       " 'unravel_index',\n",
       " 'unsignedinteger',\n",
       " 'unwrap',\n",
       " 'ushort',\n",
       " 'vander',\n",
       " 'var',\n",
       " 'vdot',\n",
       " 'vectorize',\n",
       " 'version',\n",
       " 'void',\n",
       " 'void0',\n",
       " 'vsplit',\n",
       " 'vstack',\n",
       " 'warnings',\n",
       " 'where',\n",
       " 'who',\n",
       " 'zeros',\n",
       " 'zeros_like']"
      ]
     },
     "execution_count": 7,
     "metadata": {},
     "output_type": "execute_result"
    }
   ],
   "source": [
    "# list members and submodules under numpy\n",
    "import numpy as np\n",
    "dir(np)"
   ]
  },
  {
   "cell_type": "markdown",
   "metadata": {},
   "source": [
    "### numpyのVersionを確認しましょう"
   ]
  },
  {
   "cell_type": "code",
   "execution_count": 8,
   "metadata": {
    "collapsed": false
   },
   "outputs": [
    {
     "data": {
      "text/plain": [
       "'1.10.4'"
      ]
     },
     "execution_count": 8,
     "metadata": {},
     "output_type": "execute_result"
    }
   ],
   "source": [
    "np.__version__"
   ]
  },
  {
   "cell_type": "markdown",
   "metadata": {},
   "source": [
    "### サブモジュールにも関数が入っています"
   ]
  },
  {
   "cell_type": "code",
   "execution_count": 9,
   "metadata": {
    "collapsed": false
   },
   "outputs": [
    {
     "data": {
      "text/plain": [
       "['LinAlgError',\n",
       " 'Tester',\n",
       " '__builtins__',\n",
       " '__doc__',\n",
       " '__file__',\n",
       " '__name__',\n",
       " '__package__',\n",
       " '__path__',\n",
       " '_umath_linalg',\n",
       " 'absolute_import',\n",
       " 'bench',\n",
       " 'cholesky',\n",
       " 'cond',\n",
       " 'det',\n",
       " 'division',\n",
       " 'eig',\n",
       " 'eigh',\n",
       " 'eigvals',\n",
       " 'eigvalsh',\n",
       " 'info',\n",
       " 'inv',\n",
       " 'lapack_lite',\n",
       " 'linalg',\n",
       " 'lstsq',\n",
       " 'matrix_power',\n",
       " 'matrix_rank',\n",
       " 'multi_dot',\n",
       " 'norm',\n",
       " 'pinv',\n",
       " 'print_function',\n",
       " 'qr',\n",
       " 'slogdet',\n",
       " 'solve',\n",
       " 'svd',\n",
       " 'tensorinv',\n",
       " 'tensorsolve',\n",
       " 'test']"
      ]
     },
     "execution_count": 9,
     "metadata": {},
     "output_type": "execute_result"
    }
   ],
   "source": [
    "dir(np.linalg)"
   ]
  },
  {
   "cell_type": "code",
   "execution_count": null,
   "metadata": {
    "collapsed": false
   },
   "outputs": [],
   "source": [
    "dir(np.random)"
   ]
  },
  {
   "cell_type": "markdown",
   "metadata": {},
   "source": [
    "### 関数の詳細は?で"
   ]
  },
  {
   "cell_type": "code",
   "execution_count": 10,
   "metadata": {
    "collapsed": false
   },
   "outputs": [],
   "source": [
    "np.random.randint?"
   ]
  },
  {
   "cell_type": "markdown",
   "metadata": {},
   "source": [
    "### numpy の全ての機能について説明する事は出来ないので、ここでは特に今後の演習で使うであろう基本的な事柄を説明します。\n",
    "\n",
    "### どうなるかを予想してから実行ボタンを押して下さい。\n",
    "\n",
    "### ここにあるコードは変更しても問題ありません、理解を深めるために自分で一部変更して実行してみて下さい"
   ]
  },
  {
   "cell_type": "markdown",
   "metadata": {},
   "source": [
    "## 行列、ベクトルに関する計算"
   ]
  },
  {
   "cell_type": "code",
   "execution_count": 11,
   "metadata": {
    "collapsed": false
   },
   "outputs": [
    {
     "name": "stdout",
     "output_type": "stream",
     "text": [
      "[[1 2 3]\n",
      " [4 5 6]]\n",
      "\n",
      "[7 8 9]\n",
      "\n",
      "[[1 4]\n",
      " [2 5]\n",
      " [3 6]]\n",
      "\n",
      "[1 2 3 4 5 6]\n",
      "\n",
      "[[1 2]\n",
      " [3 4]\n",
      " [5 6]]\n"
     ]
    }
   ],
   "source": [
    "import numpy as np\n",
    "W = np.array([[1, 2, 3], [4, 5, 6]])\n",
    "x = np.array([7, 8, 9])\n",
    "#W = np.array([[1,2,3,4],[4,5,6,7],[8,9,10,11]])\n",
    "\n",
    "print W\n",
    "print\n",
    "print x\n",
    "print\n",
    "# transpose\n",
    "print W.T\n",
    "print\n",
    "# flatten\n",
    "print W.flatten()\n",
    "print\n",
    "# reshape\n",
    "print W.reshape(3, 2)"
   ]
  },
  {
   "cell_type": "code",
   "execution_count": 13,
   "metadata": {
    "collapsed": false
   },
   "outputs": [
    {
     "name": "stdout",
     "output_type": "stream",
     "text": [
      "np.dot(W,x)\n",
      "[ 50 122]\n",
      "np.dot(x,W.T)\n",
      "[ 50 122]\n"
     ]
    }
   ],
   "source": [
    "# dot product\n",
    "# 1*7 + 2*8 + 3*9 = 50\n",
    "# 4*7 + 5*8 + 6*9 = 122\n",
    "\n",
    "W = np.array([[1, 2, 3], [4, 5, 6]])\n",
    "x = np.array([7, 8, 9])\n",
    "\n",
    "print \"np.dot(W,x)\\n\", np.dot(W, x)\n",
    "print \"np.dot(x,W.T)\\n\", np.dot(x, W.T)"
   ]
  },
  {
   "cell_type": "code",
   "execution_count": 14,
   "metadata": {
    "collapsed": false
   },
   "outputs": [
    {
     "name": "stdout",
     "output_type": "stream",
     "text": [
      "W * 2\n",
      "[[ 2  4  6]\n",
      " [ 8 10 12]]\n",
      "\n",
      "-W\n",
      "[[-1 -2 -3]\n",
      " [-4 -5 -6]]\n"
     ]
    }
   ],
   "source": [
    "# scalar multiplication\n",
    "\n",
    "W = np.array([[1, 2, 3], [4, 5, 6]])\n",
    "x = np.array([7, 8, 9])\n",
    "\n",
    "print \"W * 2\\n\", W * 2\n",
    "print\n",
    "print \"-W\\n\", -W"
   ]
  },
  {
   "cell_type": "markdown",
   "metadata": {},
   "source": [
    "### 成分の取り出し、スライス\n",
    "```\n",
    "x[begin: end: step]\n",
    "\n",
    "2番めのコロンは省略可\n",
    "\n",
    "x[begin: end]\n",
    "```\n",
    "\n",
    "- begin と end　の 考え方\n",
    "\n",
    "```\n",
    "x = array([7, 8, 9, 10)]\n",
    "\n",
    "component 7  8  9  10\n",
    "index     0  1  2   3  4\n",
    "          |            |\n",
    "          begin        end\n",
    "```"
   ]
  },
  {
   "cell_type": "code",
   "execution_count": 15,
   "metadata": {
    "collapsed": false
   },
   "outputs": [
    {
     "name": "stdout",
     "output_type": "stream",
     "text": [
      "x:  [ 7  8  9 10]\n",
      "x[0]:  7\n",
      "x[1]:  8\n",
      "x[2]:  9\n",
      "\n",
      "x[-1]:  10\n",
      "x[-2]:  9\n",
      "x[0:4:1]:  [ 7  8  9 10]\n",
      "x[1:3]: [8 9]\n",
      "x[:3]:  [7 8 9]\n",
      "x[:-1]:  [7 8 9]\n",
      "x[1:] :  [ 8  9 10]\n",
      "x[::-1]:  [10  9  8  7]\n",
      "\n",
      "x[::2]:  [7 9]\n",
      "x[1::2]:  [ 8 10]\n"
     ]
    }
   ],
   "source": [
    "# components, slice\n",
    "x = np.array([7, 8, 9, 10])\n",
    "\n",
    "print \"x: \", x\n",
    "\n",
    "print \"x[0]: \", x[0]\n",
    "print \"x[1]: \", x[1]\n",
    "print \"x[2]: \", x[2]\n",
    "print\n",
    "print \"x[-1]: \", x[-1]\n",
    "print \"x[-2]: \", x[-2]\n",
    "\n",
    "print \"x[0:4:1]: \", x[0:4:1]\n",
    "print \"x[1:3]:\", x[1:3]\n",
    "print \"x[:3]: \", x[:3]\n",
    "print \"x[:-1]: \", x[:-1]\n",
    "print \"x[1:] : \", x[1:]\n",
    "\n",
    "print \"x[::-1]: \", x[::-1]\n",
    "print\n",
    "print \"x[::2]: \", x[::2]\n",
    "print \"x[1::2]: \", x[1::2]"
   ]
  },
  {
   "cell_type": "code",
   "execution_count": 16,
   "metadata": {
    "collapsed": false
   },
   "outputs": [
    {
     "name": "stdout",
     "output_type": "stream",
     "text": [
      "[[1 2 3]\n",
      " [4 5 6]]\n",
      "\n",
      "[1 2 3]\n",
      "[4 5 6]\n",
      "\n",
      "[1 4]\n",
      "[2 5]\n",
      "[3 6]\n",
      "\n",
      "[[4 5 6]\n",
      " [1 2 3]]\n",
      "\n",
      "[[3 2 1]\n",
      " [6 5 4]]\n",
      "\n",
      "[[6 5 4]\n",
      " [3 2 1]]\n"
     ]
    }
   ],
   "source": [
    "W = np.array([[1, 2, 3], [4, 5, 6]])\n",
    "\n",
    "print W\n",
    "print\n",
    "print W[0]\n",
    "print W[1]\n",
    "print\n",
    "print W[:, 0]\n",
    "print W[:, 1]\n",
    "print W[:, 2]\n",
    "print\n",
    "print W[::-1]\n",
    "print\n",
    "print W[:, ::-1]\n",
    "print\n",
    "print W[::-1, ::-1]"
   ]
  },
  {
   "cell_type": "code",
   "execution_count": 17,
   "metadata": {
    "collapsed": false
   },
   "outputs": [
    {
     "name": "stdout",
     "output_type": "stream",
     "text": [
      "[[1 2 3]\n",
      " [4 5 6]]\n",
      "\n",
      "21\n",
      "\n",
      "[5 7 9]\n",
      "\n",
      "[ 6 15]\n"
     ]
    }
   ],
   "source": [
    "# axis, sum\n",
    "W = np.array([[1, 2, 3], [4, 5, 6]])\n",
    "\n",
    "print W\n",
    "print\n",
    "print W.sum()\n",
    "print\n",
    "print W.sum(axis=0)\n",
    "print\n",
    "print W.sum(axis=1)"
   ]
  },
  {
   "cell_type": "code",
   "execution_count": 18,
   "metadata": {
    "collapsed": false
   },
   "outputs": [
    {
     "name": "stdout",
     "output_type": "stream",
     "text": [
      "[ 0.  0.  0.  0.  0.  0.  0.  0.  0.  0.]\n",
      "\n",
      "[ 1.  1.  1.  1.  1.  1.  1.  1.  1.  1.]\n",
      "\n",
      "[ 0.5  0.5  0.5  0.5  0.5  0.5  0.5  0.5  0.5  0.5]\n",
      "\n",
      "[[0 1 2 3 4]\n",
      " [5 6 7 8 9]]\n",
      "\n",
      "[ 7.  8.  9.  0.  0.  0.  0.  0.  0.  0.]\n"
     ]
    }
   ],
   "source": [
    "#　ones, zeros, reshape\n",
    "print np.zeros(10)\n",
    "print\n",
    "print np.ones(10)\n",
    "print\n",
    "print (np.ones(10) * 0.5)\n",
    "print\n",
    "print np.arange(10).reshape(2, 5)\n",
    "print\n",
    "\n",
    "z = np.zeros(10)\n",
    "x = np.arange(7, 10)\n",
    "z[:len(x)] += x\n",
    "print z"
   ]
  },
  {
   "cell_type": "markdown",
   "metadata": {},
   "source": [
    "### broad castについての説明\n",
    "W.shape = (M,N), x.shape = (N,)の場合\n",
    "\n",
    "(N,) => (M, N) とする事で xをWのshapeに合わせる\n",
    "\n",
    "ただし (M,) => (M, N) のような broad cast は仕様上できない\n",
    "\n",
    "http://docs.scipy.org/doc/numpy-1.10.1/user/basics.broadcasting.html\n",
    "\n",
    "http://sucrose.hatenablog.com/entry/2014/12/15/000352"
   ]
  },
  {
   "cell_type": "code",
   "execution_count": 25,
   "metadata": {
    "collapsed": false
   },
   "outputs": [
    {
     "name": "stdout",
     "output_type": "stream",
     "text": [
      "[[1 2 3]\n",
      " [4 5 6]]\n",
      "[7 8]\n",
      "\n",
      "[6 7]\n",
      "\n",
      "[[0 1 2]\n",
      " [3 4 5]]\n",
      "\n",
      "[[ 7 14 21]\n",
      " [32 40 48]]\n",
      "\n",
      "[[ 8  9 10]\n",
      " [12 13 14]]\n",
      "\n",
      "[[ 8  9 10]\n",
      " [12 13 14]]\n",
      "\n"
     ]
    }
   ],
   "source": [
    "# broad cast\n",
    "\n",
    "W = np.array([[1, 2, 3], [4, 5, 6]])\n",
    "x = np.array([7, 8])\n",
    "\n",
    "print W\n",
    "print x\n",
    "print\n",
    "print x - 1\n",
    "print\n",
    "print W - 1\n",
    "print\n",
    "print (W.T * x).T\n",
    "print\n",
    "print (W.T + x).T\n",
    "print\n",
    "print W + x[:,np.newaxis]\n",
    "print"
   ]
  },
  {
   "cell_type": "markdown",
   "metadata": {},
   "source": [
    "### numpy.newaxis を使った broad cast\n",
    "x.shape = (3,1)\n",
    "y.shape = (3,)\n",
    "のとき\n",
    "\n",
    "まず右側の数字 x.shape[-1]とy.shape[-1]を合わせる\n",
    "\n",
    "x.shape (3,1) => (3,3)\n",
    "\n",
    "次に足りないのはそのままコピー\n",
    "\n",
    "y.shape (3,) => (3,3)"
   ]
  },
  {
   "cell_type": "code",
   "execution_count": 26,
   "metadata": {
    "collapsed": false
   },
   "outputs": [
    {
     "name": "stdout",
     "output_type": "stream",
     "text": [
      "(2, 3)\n",
      "(3, 2)\n",
      "\n",
      "(3,)\n",
      "(3,)\n",
      "\n",
      "[[7 8 9]]\n",
      "\n",
      "(1, 3)\n",
      "\n",
      "[[7]\n",
      " [8]\n",
      " [9]]\n",
      "\n",
      "(3, 1)\n",
      "[[49 56 63]\n",
      " [56 64 72]\n",
      " [63 72 81]]\n",
      "\n",
      "(1, 3)\n",
      "\n",
      "[[ 8 11]\n",
      " [10 13]\n",
      " [12 15]]\n"
     ]
    }
   ],
   "source": [
    "W = np.array([[1, 2, 3], [4, 5, 6]])\n",
    "x = np.array([7, 8, 9])\n",
    "\n",
    "print W.shape\n",
    "print W.T.shape\n",
    "print\n",
    "print x.shape\n",
    "print x.T.shape  # x と x.Tの shapeは同じ\n",
    "print\n",
    "print x[np.newaxis, :]  # 2 dimension\n",
    "print\n",
    "print x[np.newaxis, :].shape\n",
    "print\n",
    "print x[:, np.newaxis]  # 2 dimension with different shape\n",
    "print\n",
    "print x[:, np.newaxis].shape\n",
    "\n",
    "print x[:, np.newaxis] * x\n",
    "print\n",
    "print x[np.newaxis].shape  # x[np.newaxis,:]と同じ\n",
    "print\n",
    "print W.T + x[np.newaxis, :].T"
   ]
  },
  {
   "cell_type": "code",
   "execution_count": 27,
   "metadata": {
    "collapsed": false
   },
   "outputs": [
    {
     "data": {
      "text/plain": [
       "13.928388277184119"
      ]
     },
     "execution_count": 27,
     "metadata": {},
     "output_type": "execute_result"
    }
   ],
   "source": [
    "# squared norm\n",
    "# sqrt(7*7 + 8*8 + 9*9) = 13.928....\n",
    "x = np.array([7, 8, 9])\n",
    "np.linalg.norm(x, ord=2)"
   ]
  },
  {
   "cell_type": "markdown",
   "metadata": {},
   "source": [
    "## 練習\n",
    "* ### 1.\n",
    "```\n",
    "x = np.array([7,8,9])\n",
    "W = np.array([[1,2,3],[4,5,6]])\n",
    "```\n",
    "と同様のx, Wを得るように np.arangeを使ったやり方を書いてください。\n",
    "\n",
    "\n",
    "* ### 2.\n",
    "\n",
    "    以下の様な表式を得るようにWを変形してください。 ヒント: 縦の差は3,横の差は-1\n",
    "```\n",
    "[[ 1.  0. -1.]\n",
    " [ 4.  3.  2.]]\n",
    "```\n",
    "    "
   ]
  },
  {
   "cell_type": "code",
   "execution_count": null,
   "metadata": {
    "collapsed": true
   },
   "outputs": [],
   "source": [
    "# write down your code\n",
    "\n",
    "#W = np.array([[1,2,3],[4,5,6]])\n",
    "#x = np.arange(7,XXX)\n",
    "#W = np.arange(1,7).reshape(XXX,YYY)\n",
    "# print x,W\n",
    "\n",
    "# W[?????] - 2"
   ]
  },
  {
   "cell_type": "markdown",
   "metadata": {},
   "source": [
    "## 行列の成分をリストとして取り出す\n",
    "\n",
    "#### Advanced Indexingの部分を見てください http://docs.scipy.org/doc/numpy-1.10.0/reference/arrays.indexing.html"
   ]
  },
  {
   "cell_type": "code",
   "execution_count": 28,
   "metadata": {
    "collapsed": false
   },
   "outputs": [
    {
     "name": "stdout",
     "output_type": "stream",
     "text": [
      "x\n",
      "[[1 2 3 4]\n",
      " [2 4 6 8]]\n",
      "\n",
      "y\n",
      "[1 4 3 8]\n",
      "z\n",
      "[1 4 3 8]\n"
     ]
    }
   ],
   "source": [
    "# import numpy as np\n",
    "x = np.arange(1, 3)[:, np.newaxis] * np.arange(1, 5)\n",
    "print 'x\\n', x\n",
    "print\n",
    "y = x[[0, 1, 0, 1], [0, 1, 2, 3]]\n",
    "print 'y\\n', y\n",
    "\n",
    "# z is equivalent as y\n",
    "# [(0,0), (1,1), (0,2), (1,3)] is zip([0,1,0,1], [0,1,2,3]) \n",
    "z = np.array([x[0, 0], x[1, 1], x[0, 2], x[1, 3]])\n",
    "print 'z\\n', z"
   ]
  },
  {
   "cell_type": "markdown",
   "metadata": {},
   "source": [
    "## 条件式\n",
    "\n",
    "- numpy.arrayに条件式を書くと、成分毎のTrue, Falseを返す\n",
    "- numpy.arrayのかぎ括弧内に条件式を書くとTrueになっている成分だけを取り出す\n",
    "- 条件式ではなく、True, Falseのnumpy.arrayを直接入れても同様\n",
    "\n",
    "※必ずnumpy.arrayであること。listだと振る舞いは違う。"
   ]
  },
  {
   "cell_type": "code",
   "execution_count": 29,
   "metadata": {
    "collapsed": false
   },
   "outputs": [
    {
     "name": "stdout",
     "output_type": "stream",
     "text": [
      "[0 1 2 3 4 5 6 7 8 9]\n",
      "[ True  True  True  True  True False False False False False]\n",
      "[50 51 52 53 54 55 56 57 58 59]\n",
      "[50 51 52 53 54]\n",
      "[50 51 52 53 54]\n",
      "[51 51 51 51 51 50 50 50 50 50]\n"
     ]
    },
    {
     "name": "stderr",
     "output_type": "stream",
     "text": [
      "/home/ubuntu/anaconda2/lib/python2.7/site-packages/ipykernel/__main__.py:10: FutureWarning: in the future, boolean array-likes will be handled as a boolean array index\n"
     ]
    }
   ],
   "source": [
    "import numpy as np\n",
    "\n",
    "a = np.arange(10)\n",
    "print a\n",
    "print a < 5\n",
    "b = np.arange(50, 60)\n",
    "print b\n",
    "print b[a < 5]\n",
    "print b[np.array([True, True, True, True, True, False, False, False, False, False])]\n",
    "print b[[True, True, True, True, True, False, False, False, False, False]]"
   ]
  },
  {
   "cell_type": "markdown",
   "metadata": {},
   "source": [
    "-----\n",
    "## 乱数\n",
    "ガウス型と一様乱数"
   ]
  },
  {
   "cell_type": "code",
   "execution_count": 30,
   "metadata": {
    "collapsed": false
   },
   "outputs": [],
   "source": [
    "# This is abracadabra not to show unwanted warning message\n",
    "import matplotlib as mpl\n",
    "font_cache_path = mpl.get_cachedir() + '/fontList.cache'\n",
    "%rm -f $font_cache_path"
   ]
  },
  {
   "cell_type": "code",
   "execution_count": 32,
   "metadata": {
    "collapsed": false
   },
   "outputs": [
    {
     "data": {
      "image/png": "[encoded data removed]",
      "text/plain": [
       "<matplotlib.figure.Figure at 0x7f70b007dd50>"
      ]
     },
     "metadata": {},
     "output_type": "display_data"
    }
   ],
   "source": [
    "import numpy as np\n",
    "import matplotlib.pyplot as plt\n",
    "# グラフをipython notebook内に表示\n",
    "%matplotlib inline\n",
    "\n",
    "r = np.random.normal(0, 10, 1000)  # この数字を変えてみよう。\n",
    "plt.plot(r, 'x')\n",
    "plt.show()\n",
    "# np.random.normal?"
   ]
  },
  {
   "cell_type": "code",
   "execution_count": 34,
   "metadata": {
    "collapsed": false
   },
   "outputs": [
    {
     "data": {
      "image/png": "[encoded data removed]",
      "text/plain": [
       "<matplotlib.figure.Figure at 0x7f70a0d29fd0>"
      ]
     },
     "metadata": {},
     "output_type": "display_data"
    }
   ],
   "source": [
    "r = np.random.uniform(-10, 10, 1000)  # この数字を変えてみよう。\n",
    "plt.plot(r, 'x')\n",
    "plt.show()\n",
    "# np.random.uniform?"
   ]
  },
  {
   "cell_type": "code",
   "execution_count": null,
   "metadata": {
    "collapsed": false
   },
   "outputs": [],
   "source": [
    "import sklearn.utils\n",
    "# random.seedを設定するといつも同じ乱数が生成される\n",
    "np.random.seed(12345)  # ここをコメントアウトすると？, (123) => ()にすると？\n",
    "print sklearn.utils.shuffle(xrange(10))\n",
    "print sklearn.utils.shuffle(xrange(10))\n",
    "print sklearn.utils.shuffle(xrange(10))"
   ]
  },
  {
   "cell_type": "code",
   "execution_count": 35,
   "metadata": {
    "collapsed": false
   },
   "outputs": [
    {
     "name": "stdout",
     "output_type": "stream",
     "text": [
      "[0, 7, 3, 9, 6, 4, 1, 8, 5, 2]\n",
      "[3, 0, 5, 1, 7, 8, 4, 9, 6, 2]\n",
      "[4, 0, 9, 5, 7, 3, 8, 6, 1, 2]\n",
      "[9, 7, 4, 1, 6, 5, 2, 0, 8, 3]\n",
      "\n",
      "[3, 0, 5, 1, 7, 8, 4, 9, 6, 2]\n",
      "[9, 7, 4, 1, 6, 5, 2, 0, 8, 3]\n",
      "[0, 7, 3, 9, 6, 4, 1, 8, 5, 2]\n",
      "[4, 0, 9, 5, 7, 3, 8, 6, 1, 2]\n"
     ]
    }
   ],
   "source": [
    "# 応用編\n",
    "# RandomStateを使った書き方, 目的別に乱数を発生させる場合に必要\n",
    "import numpy as np\n",
    "import sklearn\n",
    "\n",
    "rng0 = np.random.RandomState(12345)\n",
    "rng1 = np.random.RandomState(34567)\n",
    "print sklearn.utils.shuffle(xrange(10), random_state=rng0)\n",
    "print sklearn.utils.shuffle(xrange(10), random_state=rng1)\n",
    "print sklearn.utils.shuffle(xrange(10), random_state=rng0)\n",
    "print sklearn.utils.shuffle(xrange(10), random_state=rng1)\n",
    "print\n",
    "\n",
    "rng0 = np.random.RandomState(12345)\n",
    "rng1 = np.random.RandomState(34567)\n",
    "print sklearn.utils.shuffle(xrange(10), random_state=rng1)\n",
    "print sklearn.utils.shuffle(xrange(10), random_state=rng1)\n",
    "print sklearn.utils.shuffle(xrange(10), random_state=rng0)\n",
    "print sklearn.utils.shuffle(xrange(10), random_state=rng0)"
   ]
  },
  {
   "cell_type": "markdown",
   "metadata": {},
   "source": [
    "# Sklearn\n",
    "http://scikit-learn.org/stable/"
   ]
  },
  {
   "cell_type": "markdown",
   "metadata": {},
   "source": [
    "## Train Test Split"
   ]
  },
  {
   "cell_type": "code",
   "execution_count": 38,
   "metadata": {
    "collapsed": false
   },
   "outputs": [
    {
     "name": "stdout",
     "output_type": "stream",
     "text": [
      "ABCDE\n",
      "\n",
      "[4, 0, 2]\n",
      "['E', 'A', 'C']\n",
      "\n",
      "[3, 1]\n",
      "['D', 'B']\n"
     ]
    }
   ],
   "source": [
    "from sklearn.cross_validation import train_test_split\n",
    "# from sklearn.model_selection import train_test_split  # for sklearn\n",
    "# version'0.18.dev0'\n",
    "import string\n",
    "\n",
    "lettersAtoE = string.uppercase[:5]\n",
    "print lettersAtoE\n",
    "print\n",
    "\n",
    "train0to4, test0to4, trainAtoE, testAtoE = train_test_split(xrange(5), lettersAtoE)\n",
    "\n",
    "# ABCDEを01234と読みかえるとどうなるか\n",
    "print train0to4\n",
    "print trainAtoE\n",
    "print\n",
    "print test0to4\n",
    "print testAtoE"
   ]
  },
  {
   "cell_type": "code",
   "execution_count": null,
   "metadata": {
    "collapsed": true
   },
   "outputs": [],
   "source": []
  },
  {
   "cell_type": "code",
   "execution_count": null,
   "metadata": {
    "collapsed": true
   },
   "outputs": [],
   "source": []
  },
  {
   "cell_type": "code",
   "execution_count": null,
   "metadata": {
    "collapsed": true
   },
   "outputs": [],
   "source": []
  },
  {
   "cell_type": "markdown",
   "metadata": {},
   "source": [
    "## MNIST 手書き数字データ\n",
    "http://yann.lecun.com/exdb/mnist/"
   ]
  },
  {
   "cell_type": "markdown",
   "metadata": {
    "collapsed": true
   },
   "source": [
    "### データの取得"
   ]
  },
  {
   "cell_type": "code",
   "execution_count": 43,
   "metadata": {
    "collapsed": false
   },
   "outputs": [
    {
     "name": "stdout",
     "output_type": "stream",
     "text": [
      "mnist.data.shape (70000, 784)\n",
      "mnist.target.shape (70000,)\n",
      "set(mnist.target) set([0.0, 1.0, 2.0, 3.0, 4.0, 5.0, 6.0, 7.0, 8.0, 9.0])\n"
     ]
    },
    {
     "data": {
      "image/png": "[encoded data removed]",
      "text/plain": [
       "<matplotlib.figure.Figure at 0x7f7094d59710>"
      ]
     },
     "metadata": {},
     "output_type": "display_data"
    }
   ],
   "source": [
    "from sklearn.datasets import fetch_mldata\n",
    "import matplotlib.pyplot as plt\n",
    "%matplotlib inline\n",
    "\n",
    "# load data on your directry ~/scikit_learn_data/mldata/\n",
    "# if data does'nt exist, it downloads the data from site.\n",
    "mnist = fetch_mldata('MNIST original')\n",
    "\n",
    "# mnist.dataにはたくさんの画像データ（手書き数字）が入っている。\n",
    "print \"mnist.data.shape\", mnist.data.shape  # image 28 x 28 pixel\n",
    "print \"mnist.target.shape\", mnist.target.shape  # the label 0,1,2,...,9\n",
    "print \"set(mnist.target)\", set(mnist.target)\n",
    "\n",
    "plt.imshow(mnist.data[7999].reshape(28, 28), cmap='gray', interpolation='none')\n",
    "plt.show()"
   ]
  },
  {
   "cell_type": "markdown",
   "metadata": {},
   "source": [
    "## Train, Validation, Test\n",
    "### 言葉の意味\n",
    "* train set 学習セット\n",
    "\n",
    "    モデルを構築するのに使用\n",
    " \n",
    "\n",
    "* validalidation set (development set) 検証セット\n",
    "\n",
    "    構築中のモデルの良さを調べるのに使う。または、モデルの候補から一番いいものを選ぶために使う。\n",
    "\n",
    "\n",
    "* test set 実験セット\n",
    "\n",
    "    モデルを構築して、ベストのモデルを選んだ後、そのモデルの良さを調べるために使用する。モデル構築中にはこのセットを触ってはいけない。\n",
    "    \n",
    "それぞれのセットでは、教師あり学習（supervised learning）の場合、data と それに対応した label　がある。　手書き数字文字の場合は画像(data)とその画像が示す数値(label)    "
   ]
  },
  {
   "cell_type": "markdown",
   "metadata": {},
   "source": [
    "## Train, Valid, Test の使い方デモ"
   ]
  },
  {
   "cell_type": "code",
   "execution_count": 44,
   "metadata": {
    "collapsed": false
   },
   "outputs": [
    {
     "name": "stdout",
     "output_type": "stream",
     "text": [
      "classifier type: 0, Train Accuracy: 1.000000, Validation Accuracy 0.837333\n",
      "classifier type: 1, Train Accuracy: 0.925333, Validation Accuracy 0.888000\n",
      "classifier type: 2, Train Accuracy: 0.900444, Validation Accuracy 0.834667\n",
      "Best Classifier: 1\n",
      "Test(Best Classifier): 0.878000\n"
     ]
    }
   ],
   "source": [
    "# Select one of Classifeir (LinearSVC, KNeighbor, SDG) using validation set\n",
    "# and test best set\n",
    "\n",
    "import numpy as np\n",
    "from sklearn.cross_validation import train_test_split\n",
    "# from sklearn.model_selection import train_test_split  # for sklearn\n",
    "# version'0.18.dev0'\n",
    "\n",
    "from sklearn.datasets import fetch_mldata\n",
    "from sklearn.svm import LinearSVC\n",
    "from sklearn.neighbors import KNeighborsClassifier\n",
    "from sklearn.linear_model import SGDClassifier\n",
    "\n",
    "from sklearn.metrics import accuracy_score\n",
    "\n",
    "mnist = fetch_mldata('MNIST original')\n",
    "M = len(mnist.data)\n",
    "N = 2000  # Use part of MNIST data to save computation time\n",
    "# randomly select N numbers from 0 to M\n",
    "selected = np.random.permutation(xrange(M))[:N]\n",
    "\n",
    "# Split data into Train, Valid, Test\n",
    "train_valid_X, test_X, train_valid_y, test_y =\\\n",
    "    train_test_split(mnist.data[selected], mnist.target[selected])\n",
    "train_X, valid_X, train_y, valid_y =\\\n",
    "    train_test_split(train_valid_X, train_valid_y)\n",
    "\n",
    "classifiers = [LinearSVC(), KNeighborsClassifier(), SGDClassifier()]\n",
    "\n",
    "# Train each classifier with Train set\n",
    "accs = []\n",
    "for clf_type, classifier in enumerate(classifiers):\n",
    "    classifier.fit(train_X, train_y)\n",
    "    pred_train = classifier.predict(train_X)\n",
    "    acc_train = accuracy_score(train_y, pred_train)\n",
    "    pred_valid = classifier.predict(valid_X)\n",
    "    acc_valid = accuracy_score(valid_y, pred_valid)\n",
    "    print \"classifier type: %d, Train Accuracy: %f, Validation Accuracy %f\" \\\n",
    "        % (clf_type, acc_train, acc_valid)\n",
    "    accs.append(acc_valid)\n",
    "\n",
    "# Chose best classifier which have highest validation accuracy\n",
    "i_clf_best = np.argmax(accs)\n",
    "print \"Best Classifier: %d\" % i_clf_best\n",
    "clf_best = classifiers[i_clf_best]\n",
    "\n",
    "# Test selected classifier\n",
    "pred = clf_best.predict(test_X)\n",
    "acc = accuracy_score(test_y, pred)\n",
    "print \"Test(Best Classifier): %f\" % acc"
   ]
  },
  {
   "cell_type": "markdown",
   "metadata": {},
   "source": [
    "### 画像処理"
   ]
  },
  {
   "cell_type": "code",
   "execution_count": 45,
   "metadata": {
    "collapsed": false
   },
   "outputs": [
    {
     "data": {
      "image/png": "[encoded data removed]",
      "text/plain": [
       "<matplotlib.figure.Figure at 0x7f708e302150>"
      ]
     },
     "metadata": {},
     "output_type": "display_data"
    },
    {
     "data": {
      "image/png": "[encoded data removed]",
      "text/plain": [
       "<matplotlib.figure.Figure at 0x7f7091866cd0>"
      ]
     },
     "metadata": {},
     "output_type": "display_data"
    }
   ],
   "source": [
    "import scipy.ndimage\n",
    "\n",
    "ZOOM = 10  # 変えてみよう\n",
    "SIGMA = 10  # 変えてみよう\n",
    "ANGLE = 45  # 変えてみよう\n",
    "\n",
    "img = mnist.data[-1].reshape(28, 28)\n",
    "plt.imshow(img, cmap='gray', interpolation='none')\n",
    "plt.show()\n",
    "\n",
    "# 縮小拡大\n",
    "img = scipy.ndimage.zoom(img, (ZOOM, ZOOM), order=1)\n",
    "# ぼかし\n",
    "img = scipy.ndimage.gaussian_filter(img, SIGMA)\n",
    "# 回転\n",
    "img = scipy.ndimage.rotate(img, ANGLE)\n",
    "\n",
    "plt.imshow(img, cmap='gray', interpolation='none')\n",
    "plt.show()\n",
    "# edge抽出など\n",
    "# http://scikit-image.org/docs/dev/auto_examples/plot_canny.html\n",
    "# http://www.tp.umu.se/~nylen/fnm/pylect/advanced/image_processing/index.html"
   ]
  },
  {
   "cell_type": "markdown",
   "metadata": {},
   "source": [
    "### 4枚をプロット　pyplot.figure"
   ]
  },
  {
   "cell_type": "code",
   "execution_count": 46,
   "metadata": {
    "collapsed": false
   },
   "outputs": [
    {
     "data": {
      "image/png": "[encoded data removed]",
      "text/plain": [
       "<matplotlib.figure.Figure at 0x7f709540d990>"
      ]
     },
     "metadata": {},
     "output_type": "display_data"
    }
   ],
   "source": [
    "import sklearn\n",
    "imgs = map(lambda x: x.reshape(28, 28), sklearn.utils.shuffle(mnist.data))\n",
    "\n",
    "fig = plt.figure()\n",
    "ax = fig.add_subplot(1, 4, 1)  # change (2,2,1)\n",
    "ax.imshow(imgs[0], cmap='gray', interpolation='none')\n",
    "ax = fig.add_subplot(1, 4, 2)  # change (2,2,2)\n",
    "ax.imshow(imgs[1], cmap='gray', interpolation='none')\n",
    "ax = fig.add_subplot(1, 4, 3)  # change (2,2,3)\n",
    "ax.imshow(imgs[2], cmap='gray', interpolation='none')\n",
    "ax = fig.add_subplot(1, 4, 4)  # change (2,2,4)\n",
    "ax.imshow(imgs[3], cmap='gray', interpolation='none')\n",
    "plt.show()"
   ]
  },
  {
   "cell_type": "code",
   "execution_count": null,
   "metadata": {
    "collapsed": true
   },
   "outputs": [],
   "source": []
  },
  {
   "cell_type": "markdown",
   "metadata": {},
   "source": [
    "#### 問題\n",
    "\n",
    "mnist.dataには画像は何枚あるでしょうか。\n",
    "\n",
    "画像データはどのようなグレイスケールで表されているでしょうか。\n",
    "\n",
    "４枚の数字をタテ２xヨコ２で表示してみましょう\n",
    "\n",
    "mnistにはどの数字がどれだけ入っているでしょうか"
   ]
  },
  {
   "cell_type": "code",
   "execution_count": null,
   "metadata": {
    "collapsed": true
   },
   "outputs": [],
   "source": [
    "#write down your code"
   ]
  },
  {
   "cell_type": "markdown",
   "metadata": {},
   "source": [
    "# matplotlib"
   ]
  },
  {
   "cell_type": "code",
   "execution_count": null,
   "metadata": {
    "collapsed": false
   },
   "outputs": [],
   "source": [
    "import matplotlib.pyplot as plt\n",
    "%matplotlib inline\n",
    "\n",
    "y = [0, 2, 1]\n",
    "\n",
    "plt.plot(y)\n",
    "plt.show()"
   ]
  },
  {
   "cell_type": "code",
   "execution_count": null,
   "metadata": {
    "collapsed": false
   },
   "outputs": [],
   "source": [
    "import matplotlib.pyplot as plt\n",
    "%matplotlib inline\n",
    "\n",
    "# 2 curves\n",
    "y1 = [0, 2, 1]\n",
    "y2 = [1, 3, 4]\n",
    "\n",
    "# zip を使った書き方\n",
    "plt.plot(zip(y1, y2))\n",
    "plt.show()\n",
    "\n",
    "# plotを２回やる\n",
    "plt.plot(y1)\n",
    "plt.plot(y2)\n",
    "plt.show()"
   ]
  },
  {
   "cell_type": "code",
   "execution_count": null,
   "metadata": {
    "collapsed": false
   },
   "outputs": [],
   "source": [
    "import numpy as np\n",
    "import matplotlib.pyplot as plt\n",
    "%matplotlib inline\n",
    "\n",
    "x = [3, 4.5, 5, 6]\n",
    "y = [0, 2, 1, 3]\n",
    "\n",
    "plt.plot(x, y)\n",
    "plt.show()\n",
    "\n",
    "# scatter plot\n",
    "plt.plot(x, y, 'o')\n",
    "plt.show()"
   ]
  },
  {
   "cell_type": "markdown",
   "metadata": {},
   "source": [
    "## 2次元画像\n",
    "pyplot.imshow を使う\n"
   ]
  },
  {
   "cell_type": "code",
   "execution_count": null,
   "metadata": {
    "collapsed": false
   },
   "outputs": [],
   "source": [
    "import numpy as np\n",
    "import matplotlib.pyplot as plt\n",
    "%matplotlib inline\n",
    "\n",
    "# Default, largest value is assigned white, smallest value is assigned to black\n",
    "a = [[1.0, 0.7], [0.2, 0.0]]\n",
    "plt.imshow(a, cmap='gray', interpolation='none')\n",
    "plt.show()"
   ]
  },
  {
   "cell_type": "code",
   "execution_count": null,
   "metadata": {
    "collapsed": false
   },
   "outputs": [],
   "source": [
    "# using subplot\n",
    "import numpy as np\n",
    "import matplotlib.pyplot as plt\n",
    "%matplotlib inline\n",
    "\n",
    "a = [[1.0, 0.7], [0.2, 0.0]]\n",
    "b = [[0.0, 0.2], [0.7, 1.0]]\n",
    "fig = plt.figure()\n",
    "ax = fig.add_subplot(1, 2, 1)  # タテ１　ヨコ２　１番目\n",
    "ax.imshow(a, cmap='gray', interpolation='none')\n",
    "ax = fig.add_subplot(1, 2, 2)  # タテ１　ヨコ２　２番目\n",
    "ax.imshow(b, cmap='gray', interpolation='none')\n",
    "plt.show()"
   ]
  },
  {
   "cell_type": "markdown",
   "metadata": {},
   "source": [
    "詳しくは\n",
    "\n",
    "http://matplotlib.org/users/pyplot_tutorial.html\n",
    "\n",
    "http://matplotlib.org/1.4.1/examples/index.html"
   ]
  },
  {
   "cell_type": "code",
   "execution_count": null,
   "metadata": {
    "collapsed": false
   },
   "outputs": [],
   "source": [
    "# Exの答え (ちなみにreduce文を使っても遅いです。)\n",
    "import operator as op\n",
    "reduce(op.add, xs)"
   ]
  },
  {
   "cell_type": "code",
   "execution_count": null,
   "metadata": {
    "collapsed": false
   },
   "outputs": [],
   "source": [
    "# numpy 練習の解\n",
    "print W[:, ::-1] - 2"
   ]
  },
  {
   "cell_type": "code",
   "execution_count": null,
   "metadata": {
    "collapsed": false
   },
   "outputs": [],
   "source": [
    "# sklearn mnist 問題の解\n",
    "import sklearn\n",
    "\n",
    "# データ数　70000\n",
    "# 0~255までの整数\n",
    "print len(mnist.data)\n",
    "print mnist.data.dtype\n",
    "print mnist.data.max()\n",
    "print mnist.data.min()\n",
    "\n",
    "imgs = map(lambda x: x.reshape(28, 28), sklearn.utils.shuffle(mnist.data))\n",
    "\n",
    "# ４枚の数字をタテ２xヨコ２で表示してみましょう\n",
    "fig = plt.figure()\n",
    "for i in xrange(4):\n",
    "    ax = fig.add_subplot(2, 2, i + 1)\n",
    "    ax.imshow(imgs[i], cmap='gray', interpolation='none')"
   ]
  },
  {
   "cell_type": "code",
   "execution_count": null,
   "metadata": {
    "collapsed": false
   },
   "outputs": [],
   "source": [
    "# mnistにはどの数字がどれだけ入っているでしょうか\n",
    "import collections\n",
    "collections.Counter(mnist.target)"
   ]
  },
  {
   "cell_type": "code",
   "execution_count": null,
   "metadata": {
    "collapsed": true
   },
   "outputs": [],
   "source": []
  }
 ],
 "metadata": {
  "kernelspec": {
   "display_name": "Python 2",
   "language": "python",
   "name": "python2"
  },
  "language_info": {
   "codemirror_mode": {
    "name": "ipython",
    "version": 2
   },
   "file_extension": ".py",
   "mimetype": "text/x-python",
   "name": "python",
   "nbconvert_exporter": "python",
   "pygments_lexer": "ipython2",
   "version": "2.7.12"
  }
 },
 "nbformat": 4,
 "nbformat_minor": 0
}
